{
 "cells": [
  {
   "cell_type": "markdown",
   "metadata": {},
   "source": [
    "# Dropout\n",
    "\n",
    "In this notebook, you will implement dropout.  Then we will ask you to train a network with batchnorm and dropout, and acheive over 55% accuracy on CIFAR-10.\n",
    "\n",
    "CS231n has built a solid API for building these modular frameworks and training them, and we will use their very well implemented framework as opposed to \"reinventing the wheel.\"  This includes using their Solver, various utility functions, and their layer structure.  This also includes nndl.fc_net, nndl.layers, and nndl.layer_utils.  As in prior assignments, we thank Serena Yeung & Justin Johnson for permission to use code written for the CS 231n class (cs231n.stanford.edu).  "
   ]
  },
  {
   "cell_type": "code",
   "execution_count": 3,
   "metadata": {},
   "outputs": [],
   "source": [
    "## Import and setups\n",
    "\n",
    "import time\n",
    "import numpy as np\n",
    "import matplotlib.pyplot as plt\n",
    "from nndl.fc_net import *\n",
    "from nndl.layers import *\n",
    "from cs231n.data_utils import get_CIFAR10_data\n",
    "from cs231n.gradient_check import eval_numerical_gradient, eval_numerical_gradient_array\n",
    "from cs231n.solver import Solver\n",
    "\n",
    "%matplotlib inline\n",
    "plt.rcParams['figure.figsize'] = (10.0, 8.0) # set default size of plots\n",
    "plt.rcParams['image.interpolation'] = 'nearest'\n",
    "plt.rcParams['image.cmap'] = 'gray'\n",
    "\n",
    "# for auto-reloading external modules\n",
    "# see http://stackoverflow.com/questions/1907993/autoreload-of-modules-in-ipython\n",
    "%load_ext autoreload\n",
    "%autoreload 2\n",
    "\n",
    "def rel_error(x, y):\n",
    "    \"\"\" returns relative error \"\"\"\n",
    "    return np.max(np.abs(x - y) / (np.maximum(1e-8, np.abs(x) + np.abs(y))))"
   ]
  },
  {
   "cell_type": "code",
   "execution_count": 4,
   "metadata": {},
   "outputs": [
    {
     "name": "stdout",
     "output_type": "stream",
     "text": [
      "X_train: (49000, 3, 32, 32) \n",
      "y_train: (49000,) \n",
      "X_val: (1000, 3, 32, 32) \n",
      "y_val: (1000,) \n",
      "X_test: (1000, 3, 32, 32) \n",
      "y_test: (1000,) \n"
     ]
    }
   ],
   "source": [
    "# Load the (preprocessed) CIFAR10 data.\n",
    "\n",
    "data = get_CIFAR10_data()\n",
    "for k in data.keys():\n",
    "    print('{}: {} '.format(k, data[k].shape))"
   ]
  },
  {
   "cell_type": "markdown",
   "metadata": {},
   "source": [
    "## Dropout forward pass\n",
    "\n",
    "Implement the training and test time dropout forward pass, `dropout_forward`, in `nndl/layers.py`. After that, test your implementation by running the following cell."
   ]
  },
  {
   "cell_type": "code",
   "execution_count": 5,
   "metadata": {},
   "outputs": [
    {
     "name": "stdout",
     "output_type": "stream",
     "text": [
      "Running tests with p =  0.3\n",
      "Mean of input:  10.001519741353952\n",
      "Mean of train-time output:  9.992351646495582\n",
      "Mean of test-time output:  10.001519741353952\n",
      "Fraction of train-time output set to zero:  0.700252\n",
      "Fraction of test-time output set to zero:  0.0\n",
      "Running tests with p =  0.6\n",
      "Mean of input:  10.001519741353952\n",
      "Mean of train-time output:  10.021625108347\n",
      "Mean of test-time output:  10.001519741353952\n",
      "Fraction of train-time output set to zero:  0.398832\n",
      "Fraction of test-time output set to zero:  0.0\n",
      "Running tests with p =  0.75\n",
      "Mean of input:  10.001519741353952\n",
      "Mean of train-time output:  10.011153106257865\n",
      "Mean of test-time output:  10.001519741353952\n",
      "Fraction of train-time output set to zero:  0.249348\n",
      "Fraction of test-time output set to zero:  0.0\n"
     ]
    }
   ],
   "source": [
    "x = np.random.randn(500, 500) + 10\n",
    "\n",
    "for p in [0.3, 0.6, 0.75]:\n",
    "    out, _ = dropout_forward(x, {'mode': 'train', 'p': p})\n",
    "    out_test, _ = dropout_forward(x, {'mode': 'test', 'p': p})\n",
    "\n",
    "    print('Running tests with p = ', p)\n",
    "    print('Mean of input: ', x.mean())\n",
    "    print('Mean of train-time output: ', out.mean())\n",
    "    print('Mean of test-time output: ', out_test.mean())\n",
    "    print('Fraction of train-time output set to zero: ', (out == 0).mean())\n",
    "    print('Fraction of test-time output set to zero: ', (out_test == 0).mean())"
   ]
  },
  {
   "cell_type": "markdown",
   "metadata": {},
   "source": [
    "## Dropout backward pass\n",
    "\n",
    "Implement the backward pass, `dropout_backward`, in `nndl/layers.py`.  After that, test your gradients by running the following cell:"
   ]
  },
  {
   "cell_type": "code",
   "execution_count": 6,
   "metadata": {},
   "outputs": [
    {
     "name": "stdout",
     "output_type": "stream",
     "text": [
      "dx relative error:  5.445609965876638e-11\n"
     ]
    }
   ],
   "source": [
    "x = np.random.randn(10, 10) + 10\n",
    "dout = np.random.randn(*x.shape)\n",
    "\n",
    "dropout_param = {'mode': 'train', 'p': 0.8, 'seed': 123}\n",
    "out, cache = dropout_forward(x, dropout_param)\n",
    "dx = dropout_backward(dout, cache)\n",
    "dx_num = eval_numerical_gradient_array(lambda xx: dropout_forward(xx, dropout_param)[0], x, dout)\n",
    "\n",
    "print('dx relative error: ', rel_error(dx, dx_num))"
   ]
  },
  {
   "cell_type": "markdown",
   "metadata": {},
   "source": [
    "## Implement a fully connected neural network with dropout layers\n",
    "\n",
    "Modify the `FullyConnectedNet()` class in `nndl/fc_net.py` to incorporate dropout.  A dropout layer should be incorporated after every ReLU layer.  Concretely, there shouldn't be a dropout at the output layer since there is no ReLU at the output layer. You will need to modify the class in the following areas:\n",
    "\n",
    "(1) In the forward pass, you will need to incorporate a dropout layer after every relu layer.\n",
    "\n",
    "(2) In the backward pass, you will need to incorporate a dropout backward pass layer.\n",
    "\n",
    "Check your implementation by running the following code.  Our W1 gradient relative error is on the order of 1e-6 (the largest of all the relative errors)."
   ]
  },
  {
   "cell_type": "code",
   "execution_count": 9,
   "metadata": {
    "scrolled": true
   },
   "outputs": [
    {
     "name": "stdout",
     "output_type": "stream",
     "text": [
      "Running check with dropout =  0.5\n",
      "Initial loss:  2.3991633865761237\n",
      "W1 relative error: 3.5184083722950694e-07\n",
      "W2 relative error: 8.518318581527959e-08\n",
      "W3 relative error: 7.114382188189419e-10\n",
      "b1 relative error: 7.429051492102551e-09\n",
      "b2 relative error: 6.536297808764137e-08\n",
      "b3 relative error: 1.5706710779934055e-10\n",
      "\n",
      "\n",
      "Running check with dropout =  0.75\n",
      "Initial loss:  2.5041838750916083\n",
      "W1 relative error: 2.3434916055712348e-07\n",
      "W2 relative error: 1.354977569396154e-07\n",
      "W3 relative error: 4.1989853793553563e-10\n",
      "b1 relative error: 2.695882959749285e-08\n",
      "b2 relative error: 1.5867456962919213e-08\n",
      "b3 relative error: 1.7438622215884738e-10\n",
      "\n",
      "\n",
      "Running check with dropout =  1.0\n",
      "Initial loss:  2.301869117913936\n",
      "W1 relative error: 1.271739299978313e-05\n",
      "W2 relative error: 1.429846251560217e-07\n",
      "W3 relative error: 3.4433521516342117e-10\n",
      "b1 relative error: 1.0133851046492746e-08\n",
      "b2 relative error: 3.4294815130956006e-08\n",
      "b3 relative error: 8.291877096580742e-11\n",
      "\n",
      "\n"
     ]
    }
   ],
   "source": [
    "N, D, H1, H2, C = 2, 15, 20, 30, 10\n",
    "X = np.random.randn(N, D)\n",
    "y = np.random.randint(C, size=(N,))\n",
    "\n",
    "for dropout in [0.5, 0.75, 1.0]:\n",
    "    print('Running check with dropout = ', dropout)\n",
    "    model = FullyConnectedNet([H1, H2], input_dim=D, num_classes=C,\n",
    "                              weight_scale=5e-2, dtype=np.float64,\n",
    "                              dropout=dropout, seed=123)\n",
    "\n",
    "    loss, grads = model.loss(X, y)\n",
    "    print('Initial loss: ', loss)\n",
    "\n",
    "    for name in sorted(grads):\n",
    "        f = lambda _: model.loss(X, y)[0]\n",
    "        grad_num = eval_numerical_gradient(f, model.params[name], verbose=False, h=1e-5)\n",
    "        print('{} relative error: {}'.format(name, rel_error(grad_num, grads[name])))\n",
    "    print('\\n')"
   ]
  },
  {
   "cell_type": "markdown",
   "metadata": {},
   "source": [
    "## Dropout as a regularizer\n",
    "\n",
    "In class, we claimed that dropout acts as a regularizer by effectively bagging.  To check this, we will train two small networks, one with dropout and one without dropout.  "
   ]
  },
  {
   "cell_type": "code",
   "execution_count": 10,
   "metadata": {},
   "outputs": [
    {
     "name": "stdout",
     "output_type": "stream",
     "text": [
      "(Iteration 1 / 125) loss: 2.311136\n",
      "(Epoch 0 / 25) train acc: 0.130000; val_acc: 0.119000\n",
      "(Epoch 1 / 25) train acc: 0.130000; val_acc: 0.119000\n",
      "(Epoch 2 / 25) train acc: 0.258000; val_acc: 0.212000\n",
      "(Epoch 3 / 25) train acc: 0.260000; val_acc: 0.202000\n",
      "(Epoch 4 / 25) train acc: 0.336000; val_acc: 0.281000\n",
      "(Epoch 5 / 25) train acc: 0.338000; val_acc: 0.260000\n",
      "(Epoch 6 / 25) train acc: 0.412000; val_acc: 0.279000\n",
      "(Epoch 7 / 25) train acc: 0.402000; val_acc: 0.297000\n",
      "(Epoch 8 / 25) train acc: 0.404000; val_acc: 0.295000\n",
      "(Epoch 9 / 25) train acc: 0.416000; val_acc: 0.288000\n",
      "(Epoch 10 / 25) train acc: 0.452000; val_acc: 0.292000\n",
      "(Epoch 11 / 25) train acc: 0.426000; val_acc: 0.277000\n",
      "(Epoch 12 / 25) train acc: 0.494000; val_acc: 0.307000\n",
      "(Epoch 13 / 25) train acc: 0.528000; val_acc: 0.298000\n",
      "(Epoch 14 / 25) train acc: 0.546000; val_acc: 0.312000\n",
      "(Epoch 15 / 25) train acc: 0.590000; val_acc: 0.304000\n",
      "(Epoch 16 / 25) train acc: 0.618000; val_acc: 0.302000\n",
      "(Epoch 17 / 25) train acc: 0.586000; val_acc: 0.311000\n",
      "(Epoch 18 / 25) train acc: 0.634000; val_acc: 0.308000\n",
      "(Epoch 19 / 25) train acc: 0.674000; val_acc: 0.325000\n",
      "(Epoch 20 / 25) train acc: 0.660000; val_acc: 0.331000\n",
      "(Iteration 101 / 125) loss: 1.181321\n",
      "(Epoch 21 / 25) train acc: 0.684000; val_acc: 0.314000\n",
      "(Epoch 22 / 25) train acc: 0.752000; val_acc: 0.325000\n",
      "(Epoch 23 / 25) train acc: 0.742000; val_acc: 0.315000\n",
      "(Epoch 24 / 25) train acc: 0.770000; val_acc: 0.296000\n",
      "(Epoch 25 / 25) train acc: 0.760000; val_acc: 0.325000\n",
      "(Iteration 1 / 125) loss: 2.307388\n",
      "(Epoch 0 / 25) train acc: 0.144000; val_acc: 0.151000\n",
      "(Epoch 1 / 25) train acc: 0.268000; val_acc: 0.223000\n",
      "(Epoch 2 / 25) train acc: 0.290000; val_acc: 0.233000\n",
      "(Epoch 3 / 25) train acc: 0.334000; val_acc: 0.255000\n",
      "(Epoch 4 / 25) train acc: 0.434000; val_acc: 0.298000\n",
      "(Epoch 5 / 25) train acc: 0.426000; val_acc: 0.293000\n",
      "(Epoch 6 / 25) train acc: 0.458000; val_acc: 0.305000\n",
      "(Epoch 7 / 25) train acc: 0.524000; val_acc: 0.314000\n",
      "(Epoch 8 / 25) train acc: 0.574000; val_acc: 0.323000\n",
      "(Epoch 9 / 25) train acc: 0.634000; val_acc: 0.335000\n",
      "(Epoch 10 / 25) train acc: 0.702000; val_acc: 0.308000\n",
      "(Epoch 11 / 25) train acc: 0.742000; val_acc: 0.292000\n",
      "(Epoch 12 / 25) train acc: 0.736000; val_acc: 0.284000\n",
      "(Epoch 13 / 25) train acc: 0.762000; val_acc: 0.301000\n",
      "(Epoch 14 / 25) train acc: 0.814000; val_acc: 0.293000\n",
      "(Epoch 15 / 25) train acc: 0.876000; val_acc: 0.294000\n",
      "(Epoch 16 / 25) train acc: 0.898000; val_acc: 0.303000\n",
      "(Epoch 17 / 25) train acc: 0.928000; val_acc: 0.281000\n",
      "(Epoch 18 / 25) train acc: 0.944000; val_acc: 0.255000\n",
      "(Epoch 19 / 25) train acc: 0.962000; val_acc: 0.297000\n",
      "(Epoch 20 / 25) train acc: 0.978000; val_acc: 0.298000\n",
      "(Iteration 101 / 125) loss: 0.101413\n",
      "(Epoch 21 / 25) train acc: 0.970000; val_acc: 0.283000\n",
      "(Epoch 22 / 25) train acc: 0.976000; val_acc: 0.290000\n",
      "(Epoch 23 / 25) train acc: 0.984000; val_acc: 0.296000\n",
      "(Epoch 24 / 25) train acc: 0.988000; val_acc: 0.276000\n",
      "(Epoch 25 / 25) train acc: 0.988000; val_acc: 0.268000\n"
     ]
    }
   ],
   "source": [
    "# Train two identical nets, one with dropout and one without\n",
    "\n",
    "num_train = 500\n",
    "small_data = {\n",
    "    'X_train': data['X_train'][:num_train],\n",
    "    'y_train': data['y_train'][:num_train],\n",
    "    'X_val': data['X_val'],\n",
    "    'y_val': data['y_val'],\n",
    "}\n",
    "\n",
    "solvers = {}\n",
    "dropout_choices = [0.6, 1.0]\n",
    "for dropout in dropout_choices:\n",
    "    model = FullyConnectedNet([100, 100, 100], dropout=dropout)\n",
    "\n",
    "    solver = Solver(model, small_data,\n",
    "                    num_epochs=25, batch_size=100,\n",
    "                    update_rule='adam',\n",
    "                    optim_config={\n",
    "                      'learning_rate': 5e-4,\n",
    "                    },\n",
    "                    verbose=True, print_every=100)\n",
    "    solver.train()\n",
    "    solvers[dropout] = solver"
   ]
  },
  {
   "cell_type": "code",
   "execution_count": 11,
   "metadata": {},
   "outputs": [
    {
     "data": {
      "image/png": "[encoded data removed]",
      "text/plain": [
       "<Figure size 1080x1080 with 2 Axes>"
      ]
     },
     "metadata": {
      "needs_background": "light"
     },
     "output_type": "display_data"
    }
   ],
   "source": [
    "# Plot train and validation accuracies of the two models\n",
    "\n",
    "train_accs = []\n",
    "val_accs = []\n",
    "for dropout in dropout_choices:\n",
    "    solver = solvers[dropout]\n",
    "    train_accs.append(solver.train_acc_history[-1])\n",
    "    val_accs.append(solver.val_acc_history[-1])\n",
    "\n",
    "plt.subplot(3, 1, 1)\n",
    "for dropout in dropout_choices:\n",
    "    plt.plot(solvers[dropout].train_acc_history, 'o', label='%.2f dropout' % dropout)\n",
    "plt.title('Train accuracy')\n",
    "plt.xlabel('Epoch')\n",
    "plt.ylabel('Accuracy')\n",
    "plt.legend(ncol=2, loc='lower right')\n",
    "  \n",
    "plt.subplot(3, 1, 2)\n",
    "for dropout in dropout_choices:\n",
    "    plt.plot(solvers[dropout].val_acc_history, 'o', label='%.2f dropout' % dropout)\n",
    "plt.title('Val accuracy')\n",
    "plt.xlabel('Epoch')\n",
    "plt.ylabel('Accuracy')\n",
    "plt.legend(ncol=2, loc='lower right')\n",
    "\n",
    "plt.gcf().set_size_inches(15, 15)\n",
    "plt.show()"
   ]
  },
  {
   "cell_type": "markdown",
   "metadata": {},
   "source": [
    "## Question\n",
    "\n",
    "Based off the results of this experiment, is dropout performing regularization?  Explain your answer."
   ]
  },
  {
   "cell_type": "markdown",
   "metadata": {},
   "source": [
    "## Answer:\n"
   ]
  },
  {
   "cell_type": "markdown",
   "metadata": {},
   "source": [
    "##### Final part of the assignment\n",
    "\n",
    "Get over 55% validation accuracy on CIFAR-10 by using the layers you have implemented.  You will be graded according to the following equation:\n",
    "\n",
    "min(floor((X - 32%)) / 23%, 1) \n",
    "where if you get 55% or higher validation accuracy, you get full points."
   ]
  },
  {
   "cell_type": "code",
   "execution_count": 40,
   "metadata": {
    "scrolled": true
   },
   "outputs": [
    {
     "name": "stdout",
     "output_type": "stream",
     "text": [
      "(Iteration 1 / 4900) loss: 2.301756\n",
      "(Epoch 0 / 10) train acc: 0.075000; val_acc: 0.083000\n",
      "(Iteration 101 / 4900) loss: 1.911935\n",
      "(Iteration 201 / 4900) loss: 1.757030\n",
      "(Iteration 301 / 4900) loss: 1.609661\n",
      "(Iteration 401 / 4900) loss: 1.541543\n",
      "(Epoch 1 / 10) train acc: 0.428000; val_acc: 0.451000\n",
      "(Iteration 501 / 4900) loss: 1.520154\n",
      "(Iteration 601 / 4900) loss: 1.351373\n",
      "(Iteration 701 / 4900) loss: 1.671091\n",
      "(Iteration 801 / 4900) loss: 1.482259\n",
      "(Iteration 901 / 4900) loss: 1.521366\n",
      "(Epoch 2 / 10) train acc: 0.460000; val_acc: 0.474000\n",
      "(Iteration 1001 / 4900) loss: 1.363964\n",
      "(Iteration 1101 / 4900) loss: 1.457867\n",
      "(Iteration 1201 / 4900) loss: 1.454616\n",
      "(Iteration 1301 / 4900) loss: 1.418068\n",
      "(Iteration 1401 / 4900) loss: 1.424851\n",
      "(Epoch 3 / 10) train acc: 0.540000; val_acc: 0.504000\n",
      "(Iteration 1501 / 4900) loss: 1.354159\n",
      "(Iteration 1601 / 4900) loss: 1.263708\n",
      "(Iteration 1701 / 4900) loss: 1.401079\n",
      "(Iteration 1801 / 4900) loss: 1.350047\n",
      "(Iteration 1901 / 4900) loss: 1.243131\n",
      "(Epoch 4 / 10) train acc: 0.536000; val_acc: 0.525000\n",
      "(Iteration 2001 / 4900) loss: 1.600445\n",
      "(Iteration 2101 / 4900) loss: 1.406746\n",
      "(Iteration 2201 / 4900) loss: 1.127358\n",
      "(Iteration 2301 / 4900) loss: 1.352858\n",
      "(Iteration 2401 / 4900) loss: 1.449434\n",
      "(Epoch 5 / 10) train acc: 0.564000; val_acc: 0.519000\n",
      "(Iteration 2501 / 4900) loss: 1.302226\n",
      "(Iteration 2601 / 4900) loss: 1.471854\n",
      "(Iteration 2701 / 4900) loss: 1.200578\n",
      "(Iteration 2801 / 4900) loss: 1.122953\n",
      "(Iteration 2901 / 4900) loss: 1.311169\n",
      "(Epoch 6 / 10) train acc: 0.557000; val_acc: 0.524000\n",
      "(Iteration 3001 / 4900) loss: 1.320858\n",
      "(Iteration 3101 / 4900) loss: 1.356811\n",
      "(Iteration 3201 / 4900) loss: 1.412052\n",
      "(Iteration 3301 / 4900) loss: 1.236248\n",
      "(Iteration 3401 / 4900) loss: 1.248204\n",
      "(Epoch 7 / 10) train acc: 0.600000; val_acc: 0.533000\n",
      "(Iteration 3501 / 4900) loss: 1.298746\n",
      "(Iteration 3601 / 4900) loss: 1.260062\n",
      "(Iteration 3701 / 4900) loss: 1.449416\n",
      "(Iteration 3801 / 4900) loss: 1.100782\n",
      "(Iteration 3901 / 4900) loss: 1.008699\n",
      "(Epoch 8 / 10) train acc: 0.630000; val_acc: 0.536000\n",
      "(Iteration 4001 / 4900) loss: 1.333746\n",
      "(Iteration 4101 / 4900) loss: 1.295776\n",
      "(Iteration 4201 / 4900) loss: 1.192634\n",
      "(Iteration 4301 / 4900) loss: 1.149644\n",
      "(Iteration 4401 / 4900) loss: 1.219973\n",
      "(Epoch 9 / 10) train acc: 0.643000; val_acc: 0.552000\n",
      "(Iteration 4501 / 4900) loss: 1.090894\n",
      "(Iteration 4601 / 4900) loss: 1.135001\n",
      "(Iteration 4701 / 4900) loss: 1.265817\n",
      "(Iteration 4801 / 4900) loss: 1.082666\n",
      "(Epoch 10 / 10) train acc: 0.659000; val_acc: 0.558000\n"
     ]
    }
   ],
   "source": [
    "# ================================================================ #\n",
    "# YOUR CODE HERE:\n",
    "#   Implement a FC-net that achieves at least 55% validation accuracy\n",
    "#   on CIFAR-10.\n",
    "# ================================================================ #\n",
    "# import the training and testing data\n",
    "data = {\n",
    "    'X_train': data['X_train'],\n",
    "    'y_train': data['y_train'],\n",
    "    'X_val': data['X_val'],\n",
    "    'y_val': data['y_val'],\n",
    "}\n",
    "weight_scale = 1e-3\n",
    "\n",
    "solvers = {}\n",
    "dropout_choices = [0.75]\n",
    "for dropout in dropout_choices:\n",
    "    model = FullyConnectedNet([700, 500, 100], dropout=dropout, weight_scale=weight_scale)\n",
    "\n",
    "    solver = Solver(model, data,\n",
    "                    num_epochs=10, batch_size=100,\n",
    "                    update_rule='adam',\n",
    "                    optim_config={\n",
    "                      'learning_rate': 2e-4,\n",
    "                    },\n",
    "                    verbose=True, print_every=100)\n",
    "    solver.train()\n",
    "    solvers[dropout] = solver\n",
    "# ================================================================ #\n",
    "# END YOUR CODE HERE\n",
    "# ================================================================ #\n"
   ]
  },
  {
   "cell_type": "code",
   "execution_count": null,
   "metadata": {},
   "outputs": [],
   "source": []
  }
 ],
 "metadata": {
  "kernelspec": {
   "display_name": "Python 3",
   "language": "python",
   "name": "python3"
  },
  "language_info": {
   "codemirror_mode": {
    "name": "ipython",
    "version": 3
   },
   "file_extension": ".py",
   "mimetype": "text/x-python",
   "name": "python",
   "nbconvert_exporter": "python",
   "pygments_lexer": "ipython3",
   "version": "3.7.3"
  }
 },
 "nbformat": 4,
 "nbformat_minor": 2
}
