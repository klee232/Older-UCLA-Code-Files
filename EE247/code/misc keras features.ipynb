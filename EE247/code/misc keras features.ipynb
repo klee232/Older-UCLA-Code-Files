{
 "cells": [
  {
   "cell_type": "code",
   "execution_count": 1,
   "metadata": {},
   "outputs": [],
   "source": [
    "import numpy as np\n",
    "import matplotlib.pyplot as plt\n",
    "import time"
   ]
  },
  {
   "cell_type": "code",
   "execution_count": 2,
   "metadata": {},
   "outputs": [],
   "source": [
    "X_test = np.load(\"X_test.npy\")\n",
    "y_test = np.load(\"y_test.npy\")\n",
    "person_train_valid = np.load(\"person_train_valid.npy\")\n",
    "X_train_valid = np.load(\"X_train_valid.npy\")\n",
    "y_train_valid = np.load(\"y_train_valid.npy\")\n",
    "person_test = np.load(\"person_test.npy\")"
   ]
  },
  {
   "cell_type": "code",
   "execution_count": 3,
   "metadata": {},
   "outputs": [],
   "source": [
    "y_train_valid -= 769\n",
    "y_test -= 769"
   ]
  },
  {
   "cell_type": "code",
   "execution_count": 4,
   "metadata": {},
   "outputs": [],
   "source": [
    "# split into train and validation set\n",
    "perm = np.random.permutation(X_train_valid.shape[0])\n",
    "numTrain = int(0.8*X_train_valid.shape[0])\n",
    "numVal = X_train_valid.shape[0] - numTrain\n",
    "Xtrain = X_train_valid[perm[0:numTrain]]\n",
    "ytrain = y_train_valid[perm[0:numTrain]]\n",
    "Xval = X_train_valid[perm[numTrain: ]]\n",
    "yval = y_train_valid[perm[numTrain: ]]"
   ]
  },
  {
   "cell_type": "code",
   "execution_count": null,
   "metadata": {},
   "outputs": [],
   "source": []
  },
  {
   "cell_type": "code",
   "execution_count": 5,
   "metadata": {},
   "outputs": [
    {
     "name": "stderr",
     "output_type": "stream",
     "text": [
      "Using TensorFlow backend.\n"
     ]
    }
   ],
   "source": [
    "from keras import layers, models, regularizers"
   ]
  },
  {
   "cell_type": "code",
   "execution_count": 10,
   "metadata": {},
   "outputs": [],
   "source": [
    "inputs = layers.Input(shape=(22, 1000))\n",
    "d1 = layers.Dense(20, activation='relu')(inputs)\n",
    "d2 = layers.Dense(10, activation='relu')(inputs)\n",
    "d3 = layers.Dense(10, activation='relu')(d2)\n",
    "cat1 = layers.Concatenate()([d1, d3])\n",
    "f1 = layers.Flatten()(cat1)\n",
    "outputs = layers.Dense(4, activation='softmax')(f1)"
   ]
  },
  {
   "cell_type": "code",
   "execution_count": 11,
   "metadata": {},
   "outputs": [],
   "source": [
    "model = models.Model(inputs=inputs, outputs=outputs)\n",
    "model.compile('adam', 'sparse_categorical_crossentropy', metrics=['acc'])"
   ]
  },
  {
   "cell_type": "code",
   "execution_count": 12,
   "metadata": {},
   "outputs": [
    {
     "name": "stdout",
     "output_type": "stream",
     "text": [
      "Model: \"model_2\"\n",
      "__________________________________________________________________________________________________\n",
      "Layer (type)                    Output Shape         Param #     Connected to                     \n",
      "==================================================================================================\n",
      "input_2 (InputLayer)            (None, 22, 1000)     0                                            \n",
      "__________________________________________________________________________________________________\n",
      "dense_6 (Dense)                 (None, 22, 10)       10010       input_2[0][0]                    \n",
      "__________________________________________________________________________________________________\n",
      "dense_5 (Dense)                 (None, 22, 20)       20020       input_2[0][0]                    \n",
      "__________________________________________________________________________________________________\n",
      "dense_7 (Dense)                 (None, 22, 10)       110         dense_6[0][0]                    \n",
      "__________________________________________________________________________________________________\n",
      "concatenate_2 (Concatenate)     (None, 22, 30)       0           dense_5[0][0]                    \n",
      "                                                                 dense_7[0][0]                    \n",
      "__________________________________________________________________________________________________\n",
      "flatten_1 (Flatten)             (None, 660)          0           concatenate_2[0][0]              \n",
      "__________________________________________________________________________________________________\n",
      "dense_8 (Dense)                 (None, 4)            2644        flatten_1[0][0]                  \n",
      "==================================================================================================\n",
      "Total params: 32,784\n",
      "Trainable params: 32,784\n",
      "Non-trainable params: 0\n",
      "__________________________________________________________________________________________________\n"
     ]
    }
   ],
   "source": [
    "model.summary()"
   ]
  },
  {
   "cell_type": "code",
   "execution_count": 13,
   "metadata": {},
   "outputs": [
    {
     "name": "stdout",
     "output_type": "stream",
     "text": [
      "WARNING:tensorflow:From c:\\Users\\j\\Anaconda3\\lib\\site-packages\\keras\\backend\\tensorflow_backend.py:422: The name tf.global_variables is deprecated. Please use tf.compat.v1.global_variables instead.\n",
      "\n",
      "Epoch 1/1\n",
      "1692/1692 [==============================] - 2s 945us/step - loss: 6.1556 - acc: 0.2754\n"
     ]
    },
    {
     "data": {
      "text/plain": [
       "<keras.callbacks.callbacks.History at 0x255818ab988>"
      ]
     },
     "execution_count": 13,
     "metadata": {},
     "output_type": "execute_result"
    }
   ],
   "source": [
    "model.fit(Xtrain, ytrain)"
   ]
  },
  {
   "cell_type": "code",
   "execution_count": 14,
   "metadata": {},
   "outputs": [
    {
     "data": {
      "text/plain": [
       "[array([[ 0.00900807,  0.06454665, -0.07458496, ..., -0.07253902,\n",
       "          0.01597231,  0.028544  ],\n",
       "        [ 0.02697947,  0.03845553, -0.04848167, ..., -0.04690543,\n",
       "         -0.01148348, -0.00677519],\n",
       "        [-0.05737805, -0.06755111,  0.06540516, ...,  0.06341277,\n",
       "         -0.0301468 ,  0.00864893],\n",
       "        ...,\n",
       "        [-0.0234506 ,  0.02636459,  0.04195694, ..., -0.05426766,\n",
       "          0.05349506, -0.06912536],\n",
       "        [-0.0054169 ,  0.05204823, -0.00611601, ..., -0.05427005,\n",
       "         -0.00791496, -0.06055442],\n",
       "        [ 0.05409981,  0.0488034 , -0.02444971, ..., -0.02650516,\n",
       "         -0.01488343,  0.03787948]], dtype=float32),\n",
       " array([-0.01900063, -0.00995925, -0.02170123, -0.01564665, -0.02369984,\n",
       "        -0.01083611, -0.03014391, -0.00327498, -0.01909629, -0.02216669,\n",
       "        -0.02496535, -0.02068056, -0.02791447, -0.01833859, -0.02070518,\n",
       "        -0.01633801, -0.01518501, -0.01452962, -0.01071978, -0.02458386],\n",
       "       dtype=float32)]"
      ]
     },
     "execution_count": 14,
     "metadata": {},
     "output_type": "execute_result"
    }
   ],
   "source": [
    "model.get_layer('dense_5').get_weights()"
   ]
  },
  {
   "cell_type": "code",
   "execution_count": null,
   "metadata": {},
   "outputs": [],
   "source": []
  },
  {
   "cell_type": "code",
   "execution_count": 15,
   "metadata": {},
   "outputs": [],
   "source": [
    "reg1 = regularizers.l2(0.01)\n",
    "reg2 = regularizers.l1(0.001)"
   ]
  },
  {
   "cell_type": "code",
   "execution_count": 16,
   "metadata": {},
   "outputs": [],
   "source": [
    "inputs = layers.Input(shape=(22, 1000))\n",
    "d1 = layers.Dense(20, activation='relu', kernel_regularizer=reg1)(inputs)\n",
    "d2 = layers.Dense(10, activation='relu')(inputs)\n",
    "d3 = layers.Dense(10, activation='relu', activity_regularizer=reg2)(d2)\n",
    "cat1 = layers.Concatenate()([d1, d3])\n",
    "f1 = layers.Flatten()(cat1)\n",
    "outputs = layers.Dense(4, activation='softmax')(f1)"
   ]
  },
  {
   "cell_type": "code",
   "execution_count": 17,
   "metadata": {},
   "outputs": [],
   "source": [
    "model = models.Model(inputs=inputs, outputs=outputs)\n",
    "model.compile('adam', 'sparse_categorical_crossentropy', metrics=['acc'])"
   ]
  },
  {
   "cell_type": "code",
   "execution_count": 18,
   "metadata": {},
   "outputs": [
    {
     "name": "stdout",
     "output_type": "stream",
     "text": [
      "Model: \"model_3\"\n",
      "__________________________________________________________________________________________________\n",
      "Layer (type)                    Output Shape         Param #     Connected to                     \n",
      "==================================================================================================\n",
      "input_3 (InputLayer)            (None, 22, 1000)     0                                            \n",
      "__________________________________________________________________________________________________\n",
      "dense_10 (Dense)                (None, 22, 10)       10010       input_3[0][0]                    \n",
      "__________________________________________________________________________________________________\n",
      "dense_9 (Dense)                 (None, 22, 20)       20020       input_3[0][0]                    \n",
      "__________________________________________________________________________________________________\n",
      "dense_11 (Dense)                (None, 22, 10)       110         dense_10[0][0]                   \n",
      "__________________________________________________________________________________________________\n",
      "concatenate_3 (Concatenate)     (None, 22, 30)       0           dense_9[0][0]                    \n",
      "                                                                 dense_11[0][0]                   \n",
      "__________________________________________________________________________________________________\n",
      "flatten_2 (Flatten)             (None, 660)          0           concatenate_3[0][0]              \n",
      "__________________________________________________________________________________________________\n",
      "dense_12 (Dense)                (None, 4)            2644        flatten_2[0][0]                  \n",
      "==================================================================================================\n",
      "Total params: 32,784\n",
      "Trainable params: 32,784\n",
      "Non-trainable params: 0\n",
      "__________________________________________________________________________________________________\n"
     ]
    }
   ],
   "source": [
    "model.summary()"
   ]
  },
  {
   "cell_type": "code",
   "execution_count": null,
   "metadata": {},
   "outputs": [],
   "source": []
  },
  {
   "cell_type": "code",
   "execution_count": 21,
   "metadata": {},
   "outputs": [],
   "source": [
    "inputs = layers.Input(shape=(22, 1000))\n",
    "r1 = layers.Reshape((22, 1000, 1))(inputs)\n",
    "c1 = layers.Conv2D(10, (22, 10), strides=(1, 10))(r1)"
   ]
  },
  {
   "cell_type": "code",
   "execution_count": 22,
   "metadata": {},
   "outputs": [
    {
     "data": {
      "text/plain": [
       "<tf.Tensor 'conv2d_2/BiasAdd:0' shape=(?, 1, 100, 10) dtype=float32>"
      ]
     },
     "execution_count": 22,
     "metadata": {},
     "output_type": "execute_result"
    }
   ],
   "source": [
    "c1"
   ]
  },
  {
   "cell_type": "code",
   "execution_count": 23,
   "metadata": {},
   "outputs": [],
   "source": [
    "r2 = layers.Reshape((100, 10))(c1)\n",
    "gru1 = layers.GRU(10)(r2)\n",
    "outputs = layers.Dense(4, activation='softmax')(gru1)"
   ]
  },
  {
   "cell_type": "code",
   "execution_count": 24,
   "metadata": {},
   "outputs": [],
   "source": [
    "model = models.Model(inputs=inputs, outputs=outputs)\n",
    "model.compile('adam', 'sparse_categorical_crossentropy', metrics=['acc'])"
   ]
  },
  {
   "cell_type": "code",
   "execution_count": 25,
   "metadata": {},
   "outputs": [
    {
     "name": "stdout",
     "output_type": "stream",
     "text": [
      "Model: \"model_4\"\n",
      "_________________________________________________________________\n",
      "Layer (type)                 Output Shape              Param #   \n",
      "=================================================================\n",
      "input_5 (InputLayer)         (None, 22, 1000)          0         \n",
      "_________________________________________________________________\n",
      "reshape_2 (Reshape)          (None, 22, 1000, 1)       0         \n",
      "_________________________________________________________________\n",
      "conv2d_2 (Conv2D)            (None, 1, 100, 10)        2210      \n",
      "_________________________________________________________________\n",
      "reshape_3 (Reshape)          (None, 100, 10)           0         \n",
      "_________________________________________________________________\n",
      "gru_1 (GRU)                  (None, 10)                630       \n",
      "_________________________________________________________________\n",
      "dense_13 (Dense)             (None, 4)                 44        \n",
      "=================================================================\n",
      "Total params: 2,884\n",
      "Trainable params: 2,884\n",
      "Non-trainable params: 0\n",
      "_________________________________________________________________\n"
     ]
    }
   ],
   "source": [
    "model.summary()"
   ]
  },
  {
   "cell_type": "code",
   "execution_count": 26,
   "metadata": {},
   "outputs": [
    {
     "name": "stdout",
     "output_type": "stream",
     "text": [
      "Epoch 1/1\n",
      "1692/1692 [==============================] - 5s 3ms/step - loss: 1.5106 - acc: 0.2524\n"
     ]
    },
    {
     "data": {
      "text/plain": [
       "<keras.callbacks.callbacks.History at 0x25582f32b88>"
      ]
     },
     "execution_count": 26,
     "metadata": {},
     "output_type": "execute_result"
    }
   ],
   "source": [
    "model.fit(Xtrain, ytrain)"
   ]
  },
  {
   "cell_type": "code",
   "execution_count": null,
   "metadata": {},
   "outputs": [],
   "source": []
  },
  {
   "cell_type": "code",
   "execution_count": 33,
   "metadata": {},
   "outputs": [],
   "source": [
    "inputs = layers.Input(shape = (22, 1000))\n",
    "f1 = layers.Flatten()(inputs)\n",
    "z = layers.Dense(2)(f1)\n",
    "d1 = layers.Dense(22*1000)(z)\n",
    "outputs = layers.Reshape((22, 1000))(d1)"
   ]
  },
  {
   "cell_type": "code",
   "execution_count": 34,
   "metadata": {},
   "outputs": [],
   "source": [
    "model = models.Model(inputs=inputs, outputs=outputs)\n",
    "model.compile('adam', 'mse')"
   ]
  },
  {
   "cell_type": "code",
   "execution_count": 35,
   "metadata": {},
   "outputs": [
    {
     "name": "stdout",
     "output_type": "stream",
     "text": [
      "Epoch 1/5\n",
      "1692/1692 [==============================] - 3s 2ms/step - loss: 112.7914\n",
      "Epoch 2/5\n",
      "1692/1692 [==============================] - 3s 1ms/step - loss: 109.7049\n",
      "Epoch 3/5\n",
      "1692/1692 [==============================] - 2s 1ms/step - loss: 109.5402\n",
      "Epoch 4/5\n",
      "1692/1692 [==============================] - 2s 1ms/step - loss: 109.4911\n",
      "Epoch 5/5\n",
      "1692/1692 [==============================] - 2s 1ms/step - loss: 109.4505\n"
     ]
    },
    {
     "data": {
      "text/plain": [
       "<keras.callbacks.callbacks.History at 0x25586175e88>"
      ]
     },
     "execution_count": 35,
     "metadata": {},
     "output_type": "execute_result"
    }
   ],
   "source": [
    "model.fit(Xtrain, Xtrain, epochs = 5)"
   ]
  },
  {
   "cell_type": "code",
   "execution_count": null,
   "metadata": {},
   "outputs": [],
   "source": []
  },
  {
   "cell_type": "code",
   "execution_count": 36,
   "metadata": {},
   "outputs": [],
   "source": [
    "encoder = models.Model(inputs=inputs, outputs=z)"
   ]
  },
  {
   "cell_type": "code",
   "execution_count": 38,
   "metadata": {},
   "outputs": [
    {
     "name": "stdout",
     "output_type": "stream",
     "text": [
      "(1692, 2)\n"
     ]
    }
   ],
   "source": [
    "zout = encoder.predict(Xtrain)\n",
    "print(zout.shape)"
   ]
  },
  {
   "cell_type": "code",
   "execution_count": 39,
   "metadata": {},
   "outputs": [
    {
     "data": {
      "image/png": "[encoded data removed]",
      "text/plain": [
       "<Figure size 720x720 with 1 Axes>"
      ]
     },
     "metadata": {
      "needs_background": "light"
     },
     "output_type": "display_data"
    }
   ],
   "source": [
    "plt.figure(figsize=(10, 10))\n",
    "for c in range(4):\n",
    "    plt.scatter(zout[ytrain == c, 0], zout[ytrain == c, 1])"
   ]
  },
  {
   "cell_type": "code",
   "execution_count": null,
   "metadata": {},
   "outputs": [],
   "source": []
  },
  {
   "cell_type": "code",
   "execution_count": null,
   "metadata": {},
   "outputs": [],
   "source": []
  },
  {
   "cell_type": "code",
   "execution_count": null,
   "metadata": {},
   "outputs": [],
   "source": []
  }
 ],
 "metadata": {
  "kernelspec": {
   "display_name": "Python 3",
   "language": "python",
   "name": "python3"
  },
  "language_info": {
   "codemirror_mode": {
    "name": "ipython",
    "version": 3
   },
   "file_extension": ".py",
   "mimetype": "text/x-python",
   "name": "python",
   "nbconvert_exporter": "python",
   "pygments_lexer": "ipython3",
   "version": "3.7.3"
  }
 },
 "nbformat": 4,
 "nbformat_minor": 4
}
