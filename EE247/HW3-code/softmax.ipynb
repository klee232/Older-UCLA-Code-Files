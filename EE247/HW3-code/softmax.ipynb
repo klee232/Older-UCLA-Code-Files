{
 "cells": [
  {
   "cell_type": "markdown",
   "metadata": {},
   "source": [
    "## This is the softmax workbook for ECE C147/C247 Assignment #2\n",
    "\n",
    "Please follow the notebook linearly to implement a softmax classifier.\n",
    "\n",
    "Please print out the workbook entirely when completed.\n",
    "\n",
    "We thank Serena Yeung & Justin Johnson for permission to use code written for the CS 231n class (cs231n.stanford.edu).  These are the functions in the cs231n folders and code in the jupyer notebook to preprocess and show the images.  The classifiers used are based off of code prepared for CS 231n as well.\n",
    "\n",
    "The goal of this workbook is to give you experience with training a softmax classifier."
   ]
  },
  {
   "cell_type": "code",
   "execution_count": 1,
   "metadata": {},
   "outputs": [],
   "source": [
    "import random\n",
    "import numpy as np\n",
    "from cs231n.data_utils import load_CIFAR10\n",
    "import matplotlib.pyplot as plt\n",
    "\n",
    "%matplotlib inline\n",
    "%load_ext autoreload\n",
    "%autoreload 2"
   ]
  },
  {
   "cell_type": "code",
   "execution_count": 2,
   "metadata": {
    "scrolled": false
   },
   "outputs": [
    {
     "name": "stdout",
     "output_type": "stream",
     "text": [
      "Train data shape:  (49000, 3073)\n",
      "Train labels shape:  (49000,)\n",
      "Validation data shape:  (1000, 3073)\n",
      "Validation labels shape:  (1000,)\n",
      "Test data shape:  (1000, 3073)\n",
      "Test labels shape:  (1000,)\n",
      "dev data shape:  (500, 3073)\n",
      "dev labels shape:  (500,)\n"
     ]
    }
   ],
   "source": [
    "def get_CIFAR10_data(num_training=49000, num_validation=1000, num_test=1000, num_dev=500):\n",
    "    \"\"\"\n",
    "    Load the CIFAR-10 dataset from disk and perform preprocessing to prepare\n",
    "    it for the linear classifier. These are the same steps as we used for the\n",
    "    SVM, but condensed to a single function.  \n",
    "    \"\"\"\n",
    "    # Load the raw CIFAR-10 data\n",
    "    cifar10_dir = r'C:\\Users\\李冠旻\\HW2-code\\cifar-10-batches-py'  # You need to update this line\n",
    "    X_train, y_train, X_test, y_test = load_CIFAR10(cifar10_dir)\n",
    "    \n",
    "    # subsample the data\n",
    "    mask = list(range(num_training, num_training + num_validation))\n",
    "    X_val = X_train[mask]\n",
    "    y_val = y_train[mask]\n",
    "    mask = list(range(num_training))\n",
    "    X_train = X_train[mask]\n",
    "    y_train = y_train[mask]\n",
    "    mask = list(range(num_test))\n",
    "    X_test = X_test[mask]\n",
    "    y_test = y_test[mask]\n",
    "    mask = np.random.choice(num_training, num_dev, replace=False)\n",
    "    X_dev = X_train[mask]\n",
    "    y_dev = y_train[mask]\n",
    "    \n",
    "    # Preprocessing: reshape the image data into rows\n",
    "    X_train = np.reshape(X_train, (X_train.shape[0], -1))\n",
    "    X_val = np.reshape(X_val, (X_val.shape[0], -1))\n",
    "    X_test = np.reshape(X_test, (X_test.shape[0], -1))\n",
    "    X_dev = np.reshape(X_dev, (X_dev.shape[0], -1))\n",
    "    \n",
    "    # Normalize the data: subtract the mean image\n",
    "    mean_image = np.mean(X_train, axis = 0)\n",
    "    X_train -= mean_image\n",
    "    X_val -= mean_image\n",
    "    X_test -= mean_image\n",
    "    X_dev -= mean_image\n",
    "    \n",
    "    # add bias dimension and transform into columns\n",
    "    X_train = np.hstack([X_train, np.ones((X_train.shape[0], 1))])\n",
    "    X_val = np.hstack([X_val, np.ones((X_val.shape[0], 1))])\n",
    "    X_test = np.hstack([X_test, np.ones((X_test.shape[0], 1))])\n",
    "    X_dev = np.hstack([X_dev, np.ones((X_dev.shape[0], 1))])\n",
    "    \n",
    "    return X_train, y_train, X_val, y_val, X_test, y_test, X_dev, y_dev\n",
    "\n",
    "\n",
    "# Invoke the above function to get our data.\n",
    "X_train, y_train, X_val, y_val, X_test, y_test, X_dev, y_dev = get_CIFAR10_data()\n",
    "print('Train data shape: ', X_train.shape)\n",
    "print('Train labels shape: ', y_train.shape)\n",
    "print('Validation data shape: ', X_val.shape)\n",
    "print('Validation labels shape: ', y_val.shape)\n",
    "print('Test data shape: ', X_test.shape)\n",
    "print('Test labels shape: ', y_test.shape)\n",
    "print('dev data shape: ', X_dev.shape)\n",
    "print('dev labels shape: ', y_dev.shape)"
   ]
  },
  {
   "cell_type": "markdown",
   "metadata": {},
   "source": [
    "## Training a softmax classifier.\n",
    "\n",
    "The following cells will take you through building a softmax classifier.  You will implement its loss function, then subsequently train it with gradient descent.  Finally, you will choose the learning rate of gradient descent to optimize its classification performance."
   ]
  },
  {
   "cell_type": "code",
   "execution_count": 3,
   "metadata": {
    "scrolled": false
   },
   "outputs": [],
   "source": [
    "from nndl import Softmax"
   ]
  },
  {
   "cell_type": "code",
   "execution_count": 4,
   "metadata": {},
   "outputs": [],
   "source": [
    "# Declare an instance of the Softmax class.  \n",
    "# Weights are initialized to a random value.\n",
    "# Note, to keep people's first solutions consistent, we are going to use a random seed.\n",
    "\n",
    "np.random.seed(1)\n",
    "\n",
    "num_classes = len(np.unique(y_train))\n",
    "num_features = X_train.shape[1]\n",
    "\n",
    "softmax = Softmax(dims=[num_classes, num_features])"
   ]
  },
  {
   "cell_type": "markdown",
   "metadata": {},
   "source": [
    "#### Softmax loss"
   ]
  },
  {
   "cell_type": "code",
   "execution_count": 5,
   "metadata": {
    "scrolled": true
   },
   "outputs": [],
   "source": [
    "## Implement the loss function of the softmax using a for loop over\n",
    "#  the number of examples\n",
    "\n",
    "loss = softmax.loss(X_train, y_train)"
   ]
  },
  {
   "cell_type": "code",
   "execution_count": 6,
   "metadata": {
    "scrolled": false
   },
   "outputs": [
    {
     "name": "stdout",
     "output_type": "stream",
     "text": [
      "2.3277607028048966\n"
     ]
    }
   ],
   "source": [
    "print(loss)"
   ]
  },
  {
   "cell_type": "markdown",
   "metadata": {},
   "source": [
    "## Question: \n",
    "\n",
    "You'll notice the loss returned by the softmax is about 2.3 (if implemented correctly).  Why does this make sense?"
   ]
  },
  {
   "cell_type": "markdown",
   "metadata": {},
   "source": [
    "# Answer:\n",
    "The original value of loss without switching the sign is about -2.3, which leads to a numerical value of around 0.1, or 10%. This is expected since we draw our sample randomly from the distribution and  the class number we have for this training data is 10. If the data is drawn from the training data randomly, it should have the rate of 0.1. \n"
   ]
  },
  {
   "cell_type": "markdown",
   "metadata": {},
   "source": [
    "#### Softmax gradient"
   ]
  },
  {
   "cell_type": "code",
   "execution_count": 7,
   "metadata": {
    "scrolled": true
   },
   "outputs": [
    {
     "name": "stdout",
     "output_type": "stream",
     "text": [
      "2.3200037089730694 (10, 3073)\n",
      "numerical: -0.233226 analytic: -0.233226, relative error: 6.317687e-08\n",
      "numerical: 0.043783 analytic: 0.043783, relative error: 6.930329e-07\n",
      "numerical: 1.403856 analytic: 1.403856, relative error: 1.815418e-08\n",
      "numerical: 1.400140 analytic: 1.400140, relative error: 1.070712e-08\n",
      "numerical: 0.620844 analytic: 0.620844, relative error: 8.372236e-08\n",
      "numerical: 2.163565 analytic: 2.163565, relative error: 1.842393e-08\n",
      "numerical: -0.852136 analytic: -0.852136, relative error: 5.103816e-08\n",
      "numerical: -1.252012 analytic: -1.252012, relative error: 2.065761e-08\n",
      "numerical: 0.792520 analytic: 0.792520, relative error: 2.585708e-08\n",
      "numerical: -3.792526 analytic: -3.792526, relative error: 1.512755e-08\n"
     ]
    }
   ],
   "source": [
    "## Calculate the gradient of the softmax loss in the Softmax class.\n",
    "# For convenience, we'll write one function that computes the loss\n",
    "#   and gradient together, softmax.loss_and_grad(X, y)\n",
    "# You may copy and paste your loss code from softmax.loss() here, and then\n",
    "#   use the appropriate intermediate values to calculate the gradient.\n",
    "\n",
    "loss, grad = softmax.loss_and_grad(X_dev,y_dev)\n",
    "\n",
    "# Compare your gradient to a gradient check we wrote. \n",
    "# You should see relative gradient errors on the order of 1e-07 or less if you implemented the gradient correctly.\n",
    "softmax.grad_check_sparse(X_dev, y_dev, grad)"
   ]
  },
  {
   "cell_type": "markdown",
   "metadata": {},
   "source": [
    "## A vectorized version of Softmax\n",
    "\n",
    "To speed things up, we will vectorize the loss and gradient calculations.  This will be helpful for stochastic gradient descent."
   ]
  },
  {
   "cell_type": "code",
   "execution_count": 8,
   "metadata": {},
   "outputs": [],
   "source": [
    "import time"
   ]
  },
  {
   "cell_type": "code",
   "execution_count": 9,
   "metadata": {
    "scrolled": true
   },
   "outputs": [
    {
     "name": "stdout",
     "output_type": "stream",
     "text": [
      "2.3200037089730694 (10, 3073)\n",
      "Normal loss / grad_norm: 2.3200037089730694 / 305.40037356090426 computed in 0.14959955215454102s\n",
      "Vectorized loss / grad: 2.320003708973068 / 305.40037356090426 computed in 0.04887080192565918s\n",
      "difference in loss / grad: 1.3322676295501878e-15 /2.0813820674109503e-13 \n"
     ]
    }
   ],
   "source": [
    "## Implement softmax.fast_loss_and_grad which calculates the loss and gradient\n",
    "#    WITHOUT using any for loops.  \n",
    "\n",
    "# Standard loss and gradient\n",
    "tic = time.time()\n",
    "loss, grad = softmax.loss_and_grad(X_dev, y_dev)\n",
    "toc = time.time()\n",
    "print('Normal loss / grad_norm: {} / {} computed in {}s'.format(loss, np.linalg.norm(grad, 'fro'), toc - tic))\n",
    "\n",
    "tic = time.time()\n",
    "loss_vectorized, grad_vectorized = softmax.fast_loss_and_grad(X_dev, y_dev)\n",
    "toc = time.time()\n",
    "print('Vectorized loss / grad: {} / {} computed in {}s'.format(loss_vectorized, np.linalg.norm(grad_vectorized, 'fro'), toc - tic))\n",
    "\n",
    "# The losses should match but your vectorized implementation should be much faster.\n",
    "print('difference in loss / grad: {} /{} '.format(loss - loss_vectorized, np.linalg.norm(grad - grad_vectorized)))\n",
    "\n",
    "# You should notice a speedup with the same output."
   ]
  },
  {
   "cell_type": "markdown",
   "metadata": {},
   "source": [
    "## Stochastic gradient descent\n",
    "\n",
    "We now implement stochastic gradient descent.  This uses the same principles of gradient descent we discussed in class, however, it calculates the gradient by only using examples from a subset of the training set (so each gradient calculation is faster)."
   ]
  },
  {
   "cell_type": "markdown",
   "metadata": {},
   "source": [
    "## Question:\n",
    "\n",
    "How should the softmax gradient descent training step differ from the svm training step, if at all?"
   ]
  },
  {
   "cell_type": "markdown",
   "metadata": {},
   "source": [
    "## Answer:\n",
    "\n",
    "The softmax gradient descent training step should be smaller compared to the svm training step, since the loss of svm is larger."
   ]
  },
  {
   "cell_type": "code",
   "execution_count": 10,
   "metadata": {
    "scrolled": true
   },
   "outputs": [
    {
     "name": "stdout",
     "output_type": "stream",
     "text": [
      "iteration 0 / 1500: loss 2.3365926606637544\n",
      "iteration 100 / 1500: loss 2.0557222613850827\n",
      "iteration 200 / 1500: loss 2.0357745120662813\n",
      "iteration 300 / 1500: loss 1.9813348165609888\n",
      "iteration 400 / 1500: loss 1.9583142443981614\n",
      "iteration 500 / 1500: loss 1.8622653073541355\n",
      "iteration 600 / 1500: loss 1.8532611454359382\n",
      "iteration 700 / 1500: loss 1.8353062223725827\n",
      "iteration 800 / 1500: loss 1.8293892468827635\n",
      "iteration 900 / 1500: loss 1.899215853035748\n",
      "iteration 1000 / 1500: loss 1.97835035402523\n",
      "iteration 1100 / 1500: loss 1.8470797913532633\n",
      "iteration 1200 / 1500: loss 1.8411450268664082\n",
      "iteration 1300 / 1500: loss 1.7910402495792102\n",
      "iteration 1400 / 1500: loss 1.8705803029382257\n",
      "That took 5.113784074783325s\n"
     ]
    },
    {
     "data": {
      "image/png": "[encoded data removed]",
      "text/plain": [
       "<Figure size 432x288 with 1 Axes>"
      ]
     },
     "metadata": {
      "needs_background": "light"
     },
     "output_type": "display_data"
    }
   ],
   "source": [
    "# Implement softmax.train() by filling in the code to extract a batch of data\n",
    "# and perform the gradient step.\n",
    "import time\n",
    "\n",
    "\n",
    "tic = time.time()\n",
    "loss_hist = softmax.train(X_train, y_train, learning_rate=1e-7,\n",
    "                      num_iters=1500, verbose=True)\n",
    "toc = time.time()\n",
    "print('That took {}s'.format(toc - tic))\n",
    "\n",
    "plt.plot(loss_hist)\n",
    "plt.xlabel('Iteration number')\n",
    "plt.ylabel('Loss value')\n",
    "plt.show()"
   ]
  },
  {
   "cell_type": "markdown",
   "metadata": {},
   "source": [
    "### Evaluate the performance of the trained softmax classifier on the validation data."
   ]
  },
  {
   "cell_type": "code",
   "execution_count": 11,
   "metadata": {},
   "outputs": [
    {
     "name": "stdout",
     "output_type": "stream",
     "text": [
      "training accuracy: 0.3811428571428571\n",
      "validation accuracy: 0.398\n"
     ]
    }
   ],
   "source": [
    "## Implement softmax.predict() and use it to compute the training and testing error.\n",
    "\n",
    "y_train_pred = softmax.predict(X_train)\n",
    "print('training accuracy: {}'.format(np.mean(np.equal(y_train,y_train_pred), )))\n",
    "y_val_pred = softmax.predict(X_val)\n",
    "print('validation accuracy: {}'.format(np.mean(np.equal(y_val, y_val_pred)), ))"
   ]
  },
  {
   "cell_type": "markdown",
   "metadata": {},
   "source": [
    "## Optimize the softmax classifier\n",
    "\n",
    "You may copy and paste your optimization code from the SVM here."
   ]
  },
  {
   "cell_type": "code",
   "execution_count": 12,
   "metadata": {},
   "outputs": [
    {
     "data": {
      "text/plain": [
       "2.220446049250313e-16"
      ]
     },
     "execution_count": 12,
     "metadata": {},
     "output_type": "execute_result"
    }
   ],
   "source": [
    "np.finfo(float).eps"
   ]
  },
  {
   "cell_type": "code",
   "execution_count": 16,
   "metadata": {
    "scrolled": false
   },
   "outputs": [
    {
     "name": "stdout",
     "output_type": "stream",
     "text": [
      "1e-06\n",
      "[2.3396524715816285, 2.265897563269016, 2.233049088022181, 2.167442584903031, 2.1520436666911342, 2.171164112292793, 2.0782809944977276, 2.1352836129838395, 2.0885158113083566, 2.008663643061474, 2.090208265341397, 2.0911735408708347, 2.060063916228363, 2.049232388712801, 2.0059758223304907, 1.9772907682801444, 1.9894084317765097, 2.04072581026807, 2.0122916472042562, 2.024843126876047, 2.0210932680159046, 1.9895249923087854, 1.8820607614560247, 2.018440114516843, 1.9601393579085005, 1.9097337147845428, 1.979656356576282, 1.9806922140910543, 1.997703788656152, 1.8906427353176614, 1.8400600177899236, 1.9505516524621829, 1.8531632509989577, 1.901140559000847, 1.839612861238615, 1.8100882265075477, 1.9008195172628246, 1.8809811485863066, 1.9688946990829967, 1.8473752141597652, 1.9365875647945991, 1.9050460775551763, 2.0032843195606604, 1.9484876980176216, 1.9264172174153555, 2.0472592802713927, 1.8906653306036194, 1.8638562824007001, 1.8049685827768605, 1.932975890555917, 1.9305959554201741, 1.791365356156847, 1.8680603907485938, 1.91840526424848, 1.915337838776803, 1.8029115390116959, 1.8444754716305436, 1.9497973144019236, 1.8505503611019753, 1.9358070501706883, 1.8693284393147307, 1.876185239021002, 1.8644155439334376, 1.9552155238476114, 1.815240635365837, 1.885085910268325, 1.8371687275013806, 1.8053784305110454, 1.9007848951415898, 1.8459514316808667, 1.8325181287499055, 1.8897139784772223, 1.8851672038293499, 1.9248409445822903, 1.911610981699351, 1.932990677182163, 1.900302407115866, 1.9036826479874487, 1.8717520202389903, 1.800789925687668, 1.8663956642955224, 1.8150392215239657, 1.9421792582951563, 1.796348826446954, 1.8283311079122038, 1.904956990253309, 1.8543355059110862, 1.8275741517069122, 1.978186023050448, 1.9035289805983342, 1.8481110193679664, 1.8999038646164201, 1.835772569382513, 1.8915562202541827, 1.8377020453783564, 1.8105878567247353, 1.864013479372865, 1.863727060883417, 1.6781693280002217, 1.9251260270523256]\n",
      "1e-06\n",
      "0.621\n",
      "1e-05\n",
      "[2.312591935249982, 2.7109638483197047, 3.789557776048416, 3.5607378801950564, 2.8308849196713175, 2.885954337676848, 3.5194913479920102, 3.7790026826336405, 3.313267468732808, 4.030107443993333, 3.20069458442548, 3.860889539535376, 4.154540055803192, 4.8298298043371055, 3.4027760866828283, 3.6531175370118105, 3.963776485772409, 3.290398383079167, 2.753796992250618, 2.754342222980748, 3.3783465046937935, 4.870385870444972, 2.9954844553991586, 3.2172221833809274, 3.003379609445358, 3.72922416043333, 4.04753948484808, 3.284536336867938, 2.9306830183831756, 3.8055968915529776, 3.5405431686453825, 4.050739682831992, 4.109611061743565, 4.28811010166677, 3.832801032865475, 3.792146522554886, 2.255881129663143, 2.550630140350115, 2.7956363832334636, 2.7562580285257114, 3.027858116674748, 3.817517476922847, 4.367846470706309, 2.4986304287039487, 2.861116497972056, 2.660782824144527, 2.388918382140312, 2.384764258215027, 2.8410100553471365, 3.073186090884245, 3.1434495084112886, 3.178304744568343, 2.664157219019288, 2.441629053496837, 2.4460279562059783, 2.5980664577605728, 3.2974976929799316, 4.245719949688656, 3.380067814695402, 3.3779990497734933, 2.8113128215141203, 3.472430718694154, 3.8380298098461707, 3.8153565089491064, 3.733020137550802, 2.1850179532629226, 2.6689241789766616, 2.586515803468003, 2.4671967618541, 2.1659247747195134, 2.826455149095192, 3.1985673878373984, 3.661053605277583, 3.4818927849313206, 3.314961505227825, 2.9804860211564073, 2.6941468888667397, 2.415764393428144, 2.81300330159355, 3.2008056233945097, 3.1033957924394557, 2.8837162412844832, 2.511888418745638, 2.197618598390498, 2.808740865775353, 3.1001904356319367, 2.896136071101536, 3.8063942518338005, 4.124070430671116, 3.3666039930442455, 2.837409495341667, 2.7272302200045964, 3.1800398173659015, 4.0283402424825985, 3.695771725620327, 2.6999550255828377, 2.791806420110056, 3.523196032375795, 3.740307833188392, 3.420917753337959]\n",
      "1e-05\n",
      "0.697\n",
      "0.0001\n",
      "[2.452189180658695, 20.430605288860317, 51.33281980792834, 49.532629904083876, 47.13525995997166, 41.64085978257153, 50.784999388150936, 49.78973821820693, 27.75623920992331, 22.45420739489459, 37.01239906710476, 46.62192372359505, 35.38468800568876, 31.078276074518964, 26.73521399534965, 36.80600383511898, 49.465339415559704, 29.03538615756985, 31.36045397860534, 37.774157453, 34.719884579627575, 27.960723950204752, 27.391315871728192, 31.064827241054964, 41.52059170260318, 49.98600970390239, 24.71064295560921, 53.3807057952969, 39.87219075875665, 35.56321568077911, 36.114073493775656, 32.896291510445835, 31.38610722400839, 27.39524329026481, 38.49581110546579, 36.133136114092935, 37.407617099532054, 36.42020481276444, 28.804003788921207, 37.673733864080475, 39.55038897900087, 29.085846661190896, 20.949844737639513, 34.18074120672532, 29.0673112359429, 47.14887144604987, 31.575341715150625, 32.19373093394817, 37.769575559514664, 30.648117333201593, 36.24680017830098, 31.991786471579612, 37.38100787990562, 22.30563540745399, 26.754601475118406, 20.347104608291115, 24.180954191584952, 31.007530655959837, 47.89677419729846, 50.201318910351645, 37.86007028158261, 31.1319168172277, 25.2196650146161, 30.152432628297728, 43.17412785182201, 29.216205172942818, 26.041989102198364, 24.350262803184634, 28.62319448348483, 31.54540504907287, 25.481481444106176, 20.536062095393753, 26.856317458713065, 28.683475308031237, 37.694253285336984, 27.95054125355712, 21.77091418507653, 26.807156986955324, 46.54970627086644, 36.367858431975925, 22.71868634460938, 18.56564174025037, 41.14890497537001, 43.36938364278318, 32.81864545037948, 26.66553850519743, 28.157418145955962, 23.262477762891386, 25.89124814522774, 24.47909648268278, 42.121143274284414, 32.28681350231719, 26.266672035063884, 27.946898433394257, 37.49456767045135, 46.872567393877, 34.050073801615284, 39.00047987511132, 38.17504065966506, 31.861559158890312]\n",
      "0.0001\n",
      "0.734\n",
      "0.001\n",
      "[2.2826352947359076, 124.715794399152, inf, nan, nan, nan, nan, nan, nan, nan, nan, nan, nan, nan, nan, nan, nan, nan, nan, nan, nan, nan, nan, nan, nan, nan, nan, nan, nan, nan, nan, nan, nan, nan, nan, nan, nan, nan, nan, nan, nan, nan, nan, nan, nan, nan, nan, nan, nan, nan, nan, nan, nan, nan, nan, nan, nan, nan, nan, nan, nan, nan, nan, nan, nan, nan, nan, nan, nan, nan, nan, nan, nan, nan, nan, nan, nan, nan, nan, nan, nan, nan, nan, nan, nan, nan, nan, nan, nan, nan, nan, nan, nan, nan, nan, nan, nan, nan, nan, nan]\n",
      "0.001\n",
      "0.913\n",
      "0.01\n",
      "[2.356526074723003, inf, nan, nan, nan, nan, nan, nan, nan, nan, nan, nan, nan, nan, nan, nan, nan, nan, nan, nan, nan, nan, nan, nan, nan, nan, nan, nan, nan, nan, nan, nan, nan, nan, nan, nan, nan, nan, nan, nan, nan, nan, nan, nan, nan, nan, nan, nan, nan, nan, nan, nan, nan, nan, nan, nan, nan, nan, nan, nan, nan, nan, nan, nan, nan, nan, nan, nan, nan, nan, nan, nan, nan, nan, nan, nan, nan, nan, nan, nan, nan, nan, nan, nan, nan, nan, nan, nan, nan, nan, nan, nan, nan, nan, nan, nan, nan, nan, nan, nan]\n",
      "0.01\n",
      "0.913\n",
      "0.1\n",
      "[2.3862047225031455, inf, nan, nan, nan, nan, nan, nan, nan, nan, nan, nan, nan, nan, nan, nan, nan, nan, nan, nan, nan, nan, nan, nan, nan, nan, nan, nan, nan, nan, nan, nan, nan, nan, nan, nan, nan, nan, nan, nan, nan, nan, nan, nan, nan, nan, nan, nan, nan, nan, nan, nan, nan, nan, nan, nan, nan, nan, nan, nan, nan, nan, nan, nan, nan, nan, nan, nan, nan, nan, nan, nan, nan, nan, nan, nan, nan, nan, nan, nan, nan, nan, nan, nan, nan, nan, nan, nan, nan, nan, nan, nan, nan, nan, nan, nan, nan, nan, nan, nan]\n",
      "0.1\n",
      "0.913\n",
      "1\n",
      "[2.2925701683971598, inf, nan, nan, nan, nan, nan, nan, nan, nan, nan, nan, nan, nan, nan, nan, nan, nan, nan, nan, nan, nan, nan, nan, nan, nan, nan, nan, nan, nan, nan, nan, nan, nan, nan, nan, nan, nan, nan, nan, nan, nan, nan, nan, nan, nan, nan, nan, nan, nan, nan, nan, nan, nan, nan, nan, nan, nan, nan, nan, nan, nan, nan, nan, nan, nan, nan, nan, nan, nan, nan, nan, nan, nan, nan, nan, nan, nan, nan, nan, nan, nan, nan, nan, nan, nan, nan, nan, nan, nan, nan, nan, nan, nan, nan, nan, nan, nan, nan, nan]\n",
      "1\n",
      "0.913\n",
      "10.0\n",
      "[2.3391955840632357, inf, nan, nan, nan, nan, nan, nan, nan, nan, nan, nan, nan, nan, nan, nan, nan, nan, nan, nan, nan, nan, nan, nan, nan, nan, nan, nan, nan, nan, nan, nan, nan, nan, nan, nan, nan, nan, nan, nan, nan, nan, nan, nan, nan, nan, nan, nan, nan, nan, nan, nan, nan, nan, nan, nan, nan, nan, nan, nan, nan, nan, nan, nan, nan, nan, nan, nan, nan, nan, nan, nan, nan, nan, nan, nan, nan, nan, nan, nan, nan, nan, nan, nan, nan, nan, nan, nan, nan, nan, nan, nan, nan, nan, nan, nan, nan, nan, nan, nan]\n",
      "10.0\n",
      "0.913\n"
     ]
    },
    {
     "name": "stdout",
     "output_type": "stream",
     "text": [
      "100.0\n",
      "[2.4280253949966175, inf, nan, nan, nan, nan, nan, nan, nan, nan, nan, nan, nan, nan, nan, nan, nan, nan, nan, nan, nan, nan, nan, nan, nan, nan, nan, nan, nan, nan, nan, nan, nan, nan, nan, nan, nan, nan, nan, nan, nan, nan, nan, nan, nan, nan, nan, nan, nan, nan, nan, nan, nan, nan, nan, nan, nan, nan, nan, nan, nan, nan, nan, nan, nan, nan, nan, nan, nan, nan, nan, nan, nan, nan, nan, nan, nan, nan, nan, nan, nan, nan, nan, nan, nan, nan, nan, nan, nan, nan, nan, nan, nan, nan, nan, nan, nan, nan, nan, nan]\n",
      "100.0\n",
      "0.913\n",
      "1000.0\n",
      "[2.3551515366109705, inf, nan, nan, nan, nan, nan, nan, nan, nan, nan, nan, nan, nan, nan, nan, nan, nan, nan, nan, nan, nan, nan, nan, nan, nan, nan, nan, nan, nan, nan, nan, nan, nan, nan, nan, nan, nan, nan, nan, nan, nan, nan, nan, nan, nan, nan, nan, nan, nan, nan, nan, nan, nan, nan, nan, nan, nan, nan, nan, nan, nan, nan, nan, nan, nan, nan, nan, nan, nan, nan, nan, nan, nan, nan, nan, nan, nan, nan, nan, nan, nan, nan, nan, nan, nan, nan, nan, nan, nan, nan, nan, nan, nan, nan, nan, nan, nan, nan, nan]\n",
      "1000.0\n",
      "0.913\n",
      "10000.0\n",
      "[2.378304316016638, inf, nan, nan, nan, nan, nan, nan, nan, nan, nan, nan, nan, nan, nan, nan, nan, nan, nan, nan, nan, nan, nan, nan, nan, nan, nan, nan, nan, nan, nan, nan, nan, nan, nan, nan, nan, nan, nan, nan, nan, nan, nan, nan, nan, nan, nan, nan, nan, nan, nan, nan, nan, nan, nan, nan, nan, nan, nan, nan, nan, nan, nan, nan, nan, nan, nan, nan, nan, nan, nan, nan, nan, nan, nan, nan, nan, nan, nan, nan, nan, nan, nan, nan, nan, nan, nan, nan, nan, nan, nan, nan, nan, nan, nan, nan, nan, nan, nan, nan]\n",
      "10000.0\n",
      "0.913\n",
      "100000.0\n",
      "[2.3144487588459084, inf, nan, nan, nan, nan, nan, nan, nan, nan, nan, nan, nan, nan, nan, nan, nan, nan, nan, nan, nan, nan, nan, nan, nan, nan, nan, nan, nan, nan, nan, nan, nan, nan, nan, nan, nan, nan, nan, nan, nan, nan, nan, nan, nan, nan, nan, nan, nan, nan, nan, nan, nan, nan, nan, nan, nan, nan, nan, nan, nan, nan, nan, nan, nan, nan, nan, nan, nan, nan, nan, nan, nan, nan, nan, nan, nan, nan, nan, nan, nan, nan, nan, nan, nan, nan, nan, nan, nan, nan, nan, nan, nan, nan, nan, nan, nan, nan, nan, nan]\n",
      "100000.0\n",
      "0.913\n",
      "1000000.0\n",
      "[2.3626435610238805, inf, nan, nan, nan, nan, nan, nan, nan, nan, nan, nan, nan, nan, nan, nan, nan, nan, nan, nan, nan, nan, nan, nan, nan, nan, nan, nan, nan, nan, nan, nan, nan, nan, nan, nan, nan, nan, nan, nan, nan, nan, nan, nan, nan, nan, nan, nan, nan, nan, nan, nan, nan, nan, nan, nan, nan, nan, nan, nan, nan, nan, nan, nan, nan, nan, nan, nan, nan, nan, nan, nan, nan, nan, nan, nan, nan, nan, nan, nan, nan, nan, nan, nan, nan, nan, nan, nan, nan, nan, nan, nan, nan, nan, nan, nan, nan, nan, nan, nan]\n",
      "1000000.0\n",
      "0.913\n"
     ]
    }
   ],
   "source": [
    "# ================================================================ #\n",
    "# YOUR CODE HERE:\n",
    "#   Train the Softmax classifier with different learning rates and \n",
    "#     evaluate on the validation data.\n",
    "#   Report:\n",
    "#     - The best learning rate of the ones you tested.  \n",
    "#     - The best validation accuracy corresponding to the best validation error.\n",
    "#\n",
    "#   Select the SVM that achieved the best validation error and report\n",
    "#     its error rate on the test set.\n",
    "# ================================================================ #\n",
    "lr = [1e-6, 1e-5, 1e-4, 1e-3, 1e-2, 1e-1, 1, 1e1, 1e2, 1e3, 1e4, 1e5, 1e6 ]\n",
    "for l in lr:\n",
    "    num_incorrect = 0\n",
    "\n",
    "    loss = softmax.train(X=X_train, y=y_train, learning_rate = l)\n",
    "    print(l)\n",
    "    print(loss)\n",
    "\n",
    "    y_pred = softmax.predict(X_val)\n",
    "    correct_preds = sum(y_pred == y_val)\n",
    "    num_test = len (y_val)\n",
    "    error =float(num_test - correct_preds) /num_test\n",
    "    print(l)\n",
    "    print(error)\n",
    "\n",
    "# ================================================================ #\n",
    "# END YOUR CODE HERE\n",
    "# ================================================================ #\n"
   ]
  },
  {
   "cell_type": "code",
   "execution_count": 22,
   "metadata": {},
   "outputs": [
    {
     "name": "stdout",
     "output_type": "stream",
     "text": [
      "1000000.0\n",
      "0.659\n"
     ]
    }
   ],
   "source": [
    "lr = 1e-6\n",
    "num_incorrect = 0\n",
    "\n",
    "loss = softmax.train(X=X_train, y=y_train, learning_rate = lr)\n",
    "y_pred = softmax.predict(X_test)\n",
    "correct_preds = sum(y_pred == y_test)\n",
    "num_test = len (y_test)\n",
    "error =float(num_test - correct_preds) /num_test\n",
    "print(error)"
   ]
  },
  {
   "cell_type": "code",
   "execution_count": null,
   "metadata": {},
   "outputs": [],
   "source": []
  },
  {
   "cell_type": "code",
   "execution_count": null,
   "metadata": {},
   "outputs": [],
   "source": []
  }
 ],
 "metadata": {
  "kernelspec": {
   "display_name": "Python 3",
   "language": "python",
   "name": "python3"
  },
  "language_info": {
   "codemirror_mode": {
    "name": "ipython",
    "version": 3
   },
   "file_extension": ".py",
   "mimetype": "text/x-python",
   "name": "python",
   "nbconvert_exporter": "python",
   "pygments_lexer": "ipython3",
   "version": "3.7.3"
  }
 },
 "nbformat": 4,
 "nbformat_minor": 2
}
