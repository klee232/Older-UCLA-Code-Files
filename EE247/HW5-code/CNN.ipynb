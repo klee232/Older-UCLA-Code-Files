{
 "cells": [
  {
   "cell_type": "markdown",
   "metadata": {},
   "source": [
    "# Convolutional neural networks\n",
    "\n",
    "In this notebook, we'll put together our convolutional layers to implement a 3-layer CNN.  Then, we'll ask you to implement a CNN that can achieve > 65% validation error on CIFAR-10.\n",
    "\n",
    "CS231n has built a solid API for building these modular frameworks and training them, and we will use their very well implemented framework as opposed to \"reinventing the wheel.\"  This includes using their Solver, various utility functions, their layer structure, and their implementation of fast CNN layers.  This also includes nndl.fc_net, nndl.layers, and nndl.layer_utils.  As in prior assignments, we thank Serena Yeung & Justin Johnson for permission to use code written for the CS 231n class (cs231n.stanford.edu).  \n",
    "\n",
    "\n",
    "If you have not completed the Spatial BatchNorm Notebook, please see the following description from that notebook:\n",
    "\n",
    "Please copy and paste your prior implemented code from HW #4 to start this assignment.  If you did not correctly implement the layers in HW #4, you may collaborate with a classmate to use their layer implementations from HW #4.  You may also visit TA or Prof OH to correct your implementation.  \n",
    "\n",
    "You'll want to copy and paste from HW #4:\n",
    "    - layers.py for your FC network layers, as well as batchnorm and dropout.\n",
    "    - layer_utils.py for your combined FC network layers.\n",
    "    - optim.py for your optimizers.\n",
    "\n",
    "Be sure to place these in the `nndl/` directory so they're imported correctly.  Note, as announced in class, we will not be releasing our solutions."
   ]
  },
  {
   "cell_type": "code",
   "execution_count": 1,
   "metadata": {},
   "outputs": [],
   "source": [
    "# As usual, a bit of setup\n",
    "\n",
    "import numpy as np\n",
    "import matplotlib.pyplot as plt\n",
    "from nndl.cnn import *\n",
    "from cs231n.data_utils import get_CIFAR10_data\n",
    "from cs231n.gradient_check import eval_numerical_gradient_array, eval_numerical_gradient\n",
    "from nndl.layers import *\n",
    "from nndl.conv_layers import *\n",
    "from cs231n.fast_layers import *\n",
    "from cs231n.solver import Solver\n",
    "\n",
    "%matplotlib inline\n",
    "plt.rcParams['figure.figsize'] = (10.0, 8.0) # set default size of plots\n",
    "plt.rcParams['image.interpolation'] = 'nearest'\n",
    "plt.rcParams['image.cmap'] = 'gray'\n",
    "\n",
    "# for auto-reloading external modules\n",
    "# see http://stackoverflow.com/questions/1907993/autoreload-of-modules-in-ipython\n",
    "%load_ext autoreload\n",
    "%autoreload 2\n",
    "\n",
    "def rel_error(x, y):\n",
    "  \"\"\" returns relative error \"\"\"\n",
    "  return np.max(np.abs(x - y) / (np.maximum(1e-8, np.abs(x) + np.abs(y))))"
   ]
  },
  {
   "cell_type": "code",
   "execution_count": 2,
   "metadata": {},
   "outputs": [
    {
     "name": "stdout",
     "output_type": "stream",
     "text": [
      "X_train: (49000, 3, 32, 32) \n",
      "y_train: (49000,) \n",
      "X_val: (1000, 3, 32, 32) \n",
      "y_val: (1000,) \n",
      "X_test: (1000, 3, 32, 32) \n",
      "y_test: (1000,) \n"
     ]
    }
   ],
   "source": [
    "# Load the (preprocessed) CIFAR10 data.\n",
    "\n",
    "data = get_CIFAR10_data()\n",
    "for k in data.keys():\n",
    "  print('{}: {} '.format(k, data[k].shape))"
   ]
  },
  {
   "cell_type": "markdown",
   "metadata": {},
   "source": [
    "## Three layer CNN\n",
    "\n",
    "In this notebook, you will implement a three layer CNN.  The `ThreeLayerConvNet` class is in `nndl/cnn.py`.  You'll need to modify that code for this section, including the initialization, as well as the calculation of the loss and gradients.  You should be able to use the building blocks you have either earlier coded or that we have provided.  Be sure to use the fast layers.\n",
    "\n",
    "The architecture of this CNN will be:\n",
    "\n",
    "conv - relu - 2x2 max pool - affine - relu - affine - softmax\n",
    "\n",
    "We won't use batchnorm yet.  You've also done enough of these to know how to debug; use the cells below.\n",
    "\n",
    "Note: As we are implementing several layers CNN networks. The gradient error can be expected for the `eval_numerical_gradient()` function. If your `W1 max relative error` and `W2 max relative error` are around or below 0.01, they should be acceptable. Other errors should be less than 1e-5. "
   ]
  },
  {
   "cell_type": "code",
   "execution_count": 3,
   "metadata": {},
   "outputs": [
    {
     "name": "stdout",
     "output_type": "stream",
     "text": [
      "W1 max relative error: 0.0005116569150755952\n",
      "W2 max relative error: 7.866254554401967e-07\n",
      "W3 max relative error: 1.55046301313777e-09\n",
      "b1 max relative error: 0.00010318268069650059\n",
      "b2 max relative error: 1.8115762429455348e-07\n",
      "b3 max relative error: 1.1488773944590573e-09\n"
     ]
    }
   ],
   "source": [
    "num_inputs = 2\n",
    "input_dim = (3, 16, 16)\n",
    "reg = 0.0\n",
    "num_classes = 10\n",
    "X = np.random.randn(num_inputs, *input_dim)\n",
    "y = np.random.randint(num_classes, size=num_inputs)\n",
    "\n",
    "model = ThreeLayerConvNet(num_filters=3, filter_size=3,\n",
    "                          input_dim=input_dim, hidden_dim=7,\n",
    "                          dtype=np.float64)\n",
    "loss, grads = model.loss(X, y)\n",
    "for param_name in sorted(grads):\n",
    "    f = lambda _: model.loss(X, y)[0]\n",
    "    param_grad_num = eval_numerical_gradient(f, model.params[param_name], verbose=False, h=1e-6)\n",
    "    e = rel_error(param_grad_num, grads[param_name])\n",
    "    print('{} max relative error: {}'.format(param_name, rel_error(param_grad_num, grads[param_name])))"
   ]
  },
  {
   "cell_type": "markdown",
   "metadata": {},
   "source": [
    "### Overfit small dataset\n",
    "\n",
    "To check your CNN implementation, let's overfit a small dataset."
   ]
  },
  {
   "cell_type": "code",
   "execution_count": 7,
   "metadata": {},
   "outputs": [
    {
     "name": "stdout",
     "output_type": "stream",
     "text": [
      "(Iteration 1 / 20) loss: 2.324876\n",
      "(Epoch 0 / 10) train acc: 0.210000; val_acc: 0.119000\n",
      "(Iteration 2 / 20) loss: 3.880761\n",
      "(Epoch 1 / 10) train acc: 0.150000; val_acc: 0.078000\n",
      "(Iteration 3 / 20) loss: 4.447142\n",
      "(Iteration 4 / 20) loss: 2.872361\n",
      "(Epoch 2 / 10) train acc: 0.130000; val_acc: 0.113000\n",
      "(Iteration 5 / 20) loss: 2.922368\n",
      "(Iteration 6 / 20) loss: 2.946855\n",
      "(Epoch 3 / 10) train acc: 0.340000; val_acc: 0.159000\n",
      "(Iteration 7 / 20) loss: 2.651904\n",
      "(Iteration 8 / 20) loss: 1.875149\n",
      "(Epoch 4 / 10) train acc: 0.220000; val_acc: 0.135000\n",
      "(Iteration 9 / 20) loss: 1.820156\n",
      "(Iteration 10 / 20) loss: 1.774031\n",
      "(Epoch 5 / 10) train acc: 0.320000; val_acc: 0.166000\n",
      "(Iteration 11 / 20) loss: 1.806982\n",
      "(Iteration 12 / 20) loss: 1.970821\n",
      "(Epoch 6 / 10) train acc: 0.430000; val_acc: 0.177000\n",
      "(Iteration 13 / 20) loss: 1.625868\n",
      "(Iteration 14 / 20) loss: 1.507076\n",
      "(Epoch 7 / 10) train acc: 0.520000; val_acc: 0.160000\n",
      "(Iteration 15 / 20) loss: 1.443923\n",
      "(Iteration 16 / 20) loss: 1.390768\n",
      "(Epoch 8 / 10) train acc: 0.560000; val_acc: 0.174000\n",
      "(Iteration 17 / 20) loss: 1.156010\n",
      "(Iteration 18 / 20) loss: 0.981290\n",
      "(Epoch 9 / 10) train acc: 0.630000; val_acc: 0.224000\n",
      "(Iteration 19 / 20) loss: 1.209538\n",
      "(Iteration 20 / 20) loss: 1.127258\n",
      "(Epoch 10 / 10) train acc: 0.710000; val_acc: 0.244000\n"
     ]
    }
   ],
   "source": [
    "num_train = 100\n",
    "small_data = {\n",
    "  'X_train': data['X_train'][:num_train],\n",
    "  'y_train': data['y_train'][:num_train],\n",
    "  'X_val': data['X_val'],\n",
    "  'y_val': data['y_val'],\n",
    "}\n",
    "\n",
    "model = ThreeLayerConvNet(weight_scale=1e-2)\n",
    "\n",
    "solver = Solver(model, small_data,\n",
    "                num_epochs=10, batch_size=50,\n",
    "                update_rule='adam',\n",
    "                optim_config={\n",
    "                  'learning_rate': 1e-3,\n",
    "                },\n",
    "                verbose=True, print_every=1)\n",
    "solver.train()"
   ]
  },
  {
   "cell_type": "code",
   "execution_count": 8,
   "metadata": {},
   "outputs": [
    {
     "data": {
      "image/png": "[encoded data removed]",
      "text/plain": [
       "<Figure size 720x576 with 2 Axes>"
      ]
     },
     "metadata": {
      "needs_background": "light"
     },
     "output_type": "display_data"
    }
   ],
   "source": [
    "plt.subplot(2, 1, 1)\n",
    "plt.plot(solver.loss_history, 'o')\n",
    "plt.xlabel('iteration')\n",
    "plt.ylabel('loss')\n",
    "\n",
    "plt.subplot(2, 1, 2)\n",
    "plt.plot(solver.train_acc_history, '-o')\n",
    "plt.plot(solver.val_acc_history, '-o')\n",
    "plt.legend(['train', 'val'], loc='upper left')\n",
    "plt.xlabel('epoch')\n",
    "plt.ylabel('accuracy')\n",
    "plt.show()"
   ]
  },
  {
   "cell_type": "markdown",
   "metadata": {},
   "source": [
    "## Train the network\n",
    "\n",
    "Now we train the 3 layer CNN on CIFAR-10 and assess its accuracy."
   ]
  },
  {
   "cell_type": "code",
   "execution_count": 9,
   "metadata": {
    "scrolled": false
   },
   "outputs": [
    {
     "name": "stdout",
     "output_type": "stream",
     "text": [
      "(Iteration 1 / 980) loss: 2.306598\n",
      "(Epoch 0 / 1) train acc: 0.105000; val_acc: 0.102000\n",
      "(Iteration 21 / 980) loss: 2.340285\n",
      "(Iteration 41 / 980) loss: 2.339617\n",
      "(Iteration 61 / 980) loss: 2.327266\n",
      "(Iteration 81 / 980) loss: 2.446574\n",
      "(Iteration 101 / 980) loss: 2.348081\n",
      "(Iteration 121 / 980) loss: 2.249627\n",
      "(Iteration 141 / 980) loss: 2.203095\n",
      "(Iteration 161 / 980) loss: 2.128503\n",
      "(Iteration 181 / 980) loss: 2.066520\n",
      "(Iteration 201 / 980) loss: 2.263375\n",
      "(Iteration 221 / 980) loss: 2.499078\n",
      "(Iteration 241 / 980) loss: 1.984281\n",
      "(Iteration 261 / 980) loss: 2.052639\n",
      "(Iteration 281 / 980) loss: 2.245969\n",
      "(Iteration 301 / 980) loss: 2.091510\n",
      "(Iteration 321 / 980) loss: 1.920353\n",
      "(Iteration 341 / 980) loss: 2.084287\n",
      "(Iteration 361 / 980) loss: 2.103495\n",
      "(Iteration 381 / 980) loss: 1.880670\n",
      "(Iteration 401 / 980) loss: 1.988195\n",
      "(Iteration 421 / 980) loss: 1.752677\n",
      "(Iteration 441 / 980) loss: 1.819313\n",
      "(Iteration 461 / 980) loss: 1.976147\n",
      "(Iteration 481 / 980) loss: 1.933133\n",
      "(Iteration 501 / 980) loss: 2.274892\n",
      "(Iteration 521 / 980) loss: 1.884003\n",
      "(Iteration 541 / 980) loss: 2.068236\n",
      "(Iteration 561 / 980) loss: 1.943598\n",
      "(Iteration 581 / 980) loss: 1.793649\n",
      "(Iteration 601 / 980) loss: 1.843406\n",
      "(Iteration 621 / 980) loss: 1.935205\n",
      "(Iteration 641 / 980) loss: 2.097199\n",
      "(Iteration 661 / 980) loss: 1.947220\n",
      "(Iteration 681 / 980) loss: 2.056263\n",
      "(Iteration 701 / 980) loss: 2.012638\n",
      "(Iteration 721 / 980) loss: 2.011428\n",
      "(Iteration 741 / 980) loss: 1.780098\n",
      "(Iteration 761 / 980) loss: 2.113734\n",
      "(Iteration 781 / 980) loss: 1.793220\n",
      "(Iteration 801 / 980) loss: 1.851157\n",
      "(Iteration 821 / 980) loss: 1.813695\n",
      "(Iteration 841 / 980) loss: 1.760809\n",
      "(Iteration 861 / 980) loss: 1.783959\n",
      "(Iteration 881 / 980) loss: 2.101044\n",
      "(Iteration 901 / 980) loss: 1.937395\n",
      "(Iteration 921 / 980) loss: 1.636131\n",
      "(Iteration 941 / 980) loss: 1.979124\n",
      "(Iteration 961 / 980) loss: 1.787871\n",
      "(Epoch 1 / 1) train acc: 0.348000; val_acc: 0.374000\n"
     ]
    }
   ],
   "source": [
    "model = ThreeLayerConvNet(weight_scale=0.001, hidden_dim=500, reg=0.001)\n",
    "\n",
    "solver = Solver(model, data,\n",
    "                num_epochs=1, batch_size=50,\n",
    "                update_rule='adam',\n",
    "                optim_config={\n",
    "                  'learning_rate': 1e-3,\n",
    "                },\n",
    "                verbose=True, print_every=20)\n",
    "solver.train()"
   ]
  },
  {
   "cell_type": "markdown",
   "metadata": {},
   "source": [
    "# Get > 65% validation accuracy on CIFAR-10.\n",
    "\n",
    "In the last part of the assignment, we'll now ask you to train a CNN to get better than 65% validation accuracy on CIFAR-10.\n",
    "\n",
    "### Things you should try:\n",
    "- Filter size: Above we used 7x7; but VGGNet and onwards showed stacks of 3x3 filters are good.  \n",
    "- Number of filters: Above we used 32 filters. Do more or fewer do better?\n",
    "- Batch normalization: Try adding spatial batch normalization after convolution layers and vanilla batch normalization after affine layers. Do your networks train faster?\n",
    "- Network architecture: Can a deeper CNN do better?  Consider these architectures:\n",
    "    - [conv-relu-pool]xN - conv - relu - [affine]xM - [softmax or SVM]\n",
    "    - [conv-relu-pool]XN - [affine]XM - [softmax or SVM]\n",
    "    - [conv-relu-conv-relu-pool]xN - [affine]xM - [softmax or SVM]\n",
    "\n",
    "### Tips for training\n",
    "For each network architecture that you try, you should tune the learning rate and regularization strength. When doing this there are a couple of important things to keep in mind:\n",
    "\n",
    "- If the parameters are working well, you should see improvement within a few hundred iterations\n",
    "- Remember the coarse-to-fine approach for hyperparameter tuning: start by testing a large range of hyperparameters for just a few training iterations to find the combinations of parameters that are working at all.\n",
    "- Once you have found some sets of parameters that seem to work, search more finely around these parameters. You may need to train for more epochs."
   ]
  },
  {
   "cell_type": "code",
   "execution_count": 27,
   "metadata": {
    "scrolled": true
   },
   "outputs": [
    {
     "name": "stdout",
     "output_type": "stream",
     "text": [
      "(Iteration 1 / 1470) loss: 2.305393\n",
      "(Epoch 0 / 6) train acc: 0.222000; val_acc: 0.198000\n",
      "(Iteration 21 / 1470) loss: 1.894686\n",
      "(Iteration 41 / 1470) loss: 1.594439\n",
      "(Iteration 61 / 1470) loss: 1.520408\n",
      "(Iteration 81 / 1470) loss: 1.445670\n",
      "(Iteration 101 / 1470) loss: 1.464093\n",
      "(Iteration 121 / 1470) loss: 1.377342\n",
      "(Iteration 141 / 1470) loss: 1.296799\n",
      "(Iteration 161 / 1470) loss: 1.421287\n",
      "(Iteration 181 / 1470) loss: 1.449709\n",
      "(Iteration 201 / 1470) loss: 1.493641\n",
      "(Iteration 221 / 1470) loss: 1.443016\n",
      "(Iteration 241 / 1470) loss: 1.357099\n",
      "(Epoch 1 / 6) train acc: 0.599000; val_acc: 0.574000\n",
      "(Iteration 261 / 1470) loss: 1.342116\n",
      "(Iteration 281 / 1470) loss: 1.341789\n",
      "(Iteration 301 / 1470) loss: 1.279032\n",
      "(Iteration 321 / 1470) loss: 1.507302\n",
      "(Iteration 341 / 1470) loss: 1.432506\n",
      "(Iteration 361 / 1470) loss: 1.274808\n",
      "(Iteration 381 / 1470) loss: 1.399523\n",
      "(Iteration 401 / 1470) loss: 1.315165\n",
      "(Iteration 421 / 1470) loss: 1.357459\n",
      "(Iteration 441 / 1470) loss: 1.383167\n",
      "(Iteration 461 / 1470) loss: 1.345764\n",
      "(Iteration 481 / 1470) loss: 1.463332\n",
      "(Epoch 2 / 6) train acc: 0.638000; val_acc: 0.595000\n",
      "(Iteration 501 / 1470) loss: 1.545401\n",
      "(Iteration 521 / 1470) loss: 1.338969\n",
      "(Iteration 541 / 1470) loss: 1.229829\n",
      "(Iteration 561 / 1470) loss: 1.146278\n",
      "(Iteration 581 / 1470) loss: 1.391436\n",
      "(Iteration 601 / 1470) loss: 1.367040\n",
      "(Iteration 621 / 1470) loss: 1.242181\n",
      "(Iteration 641 / 1470) loss: 1.242202\n",
      "(Iteration 661 / 1470) loss: 1.325495\n",
      "(Iteration 681 / 1470) loss: 1.270391\n",
      "(Iteration 701 / 1470) loss: 1.201309\n",
      "(Iteration 721 / 1470) loss: 1.199813\n",
      "(Epoch 3 / 6) train acc: 0.681000; val_acc: 0.626000\n",
      "(Iteration 741 / 1470) loss: 1.182062\n",
      "(Iteration 761 / 1470) loss: 1.136681\n",
      "(Iteration 781 / 1470) loss: 1.253952\n",
      "(Iteration 801 / 1470) loss: 1.229233\n",
      "(Iteration 821 / 1470) loss: 1.274202\n",
      "(Iteration 841 / 1470) loss: 1.176676\n",
      "(Iteration 861 / 1470) loss: 1.284666\n",
      "(Iteration 881 / 1470) loss: 1.239209\n",
      "(Iteration 901 / 1470) loss: 1.322387\n",
      "(Iteration 921 / 1470) loss: 1.112111\n",
      "(Iteration 941 / 1470) loss: 1.119626\n",
      "(Iteration 961 / 1470) loss: 1.251615\n",
      "(Epoch 4 / 6) train acc: 0.687000; val_acc: 0.639000\n",
      "(Iteration 981 / 1470) loss: 1.215548\n",
      "(Iteration 1001 / 1470) loss: 1.277683\n",
      "(Iteration 1021 / 1470) loss: 1.284532\n",
      "(Iteration 1041 / 1470) loss: 1.189754\n",
      "(Iteration 1061 / 1470) loss: 1.252030\n",
      "(Iteration 1081 / 1470) loss: 1.016569\n",
      "(Iteration 1101 / 1470) loss: 1.212949\n",
      "(Iteration 1121 / 1470) loss: 1.171410\n",
      "(Iteration 1141 / 1470) loss: 1.165607\n",
      "(Iteration 1161 / 1470) loss: 1.180629\n",
      "(Iteration 1181 / 1470) loss: 1.098919\n",
      "(Iteration 1201 / 1470) loss: 1.140778\n",
      "(Iteration 1221 / 1470) loss: 1.086853\n",
      "(Epoch 5 / 6) train acc: 0.736000; val_acc: 0.631000\n",
      "(Iteration 1241 / 1470) loss: 1.137966\n",
      "(Iteration 1261 / 1470) loss: 1.106186\n",
      "(Iteration 1281 / 1470) loss: 1.178629\n",
      "(Iteration 1301 / 1470) loss: 1.086836\n",
      "(Iteration 1321 / 1470) loss: 1.093422\n",
      "(Iteration 1341 / 1470) loss: 1.105395\n",
      "(Iteration 1361 / 1470) loss: 1.078849\n",
      "(Iteration 1381 / 1470) loss: 1.164438\n",
      "(Iteration 1401 / 1470) loss: 1.088191\n",
      "(Iteration 1421 / 1470) loss: 1.253066\n",
      "(Iteration 1441 / 1470) loss: 1.021285\n",
      "(Iteration 1461 / 1470) loss: 1.101273\n",
      "(Epoch 6 / 6) train acc: 0.736000; val_acc: 0.662000\n"
     ]
    }
   ],
   "source": [
    "# ================================================================ #\n",
    "# YOUR CODE HERE:\n",
    "#   Implement a CNN to achieve greater than 65% validation accuracy\n",
    "#   on CIFAR-10.\n",
    "# ================================================================ #\n",
    "model = ThreeLayerConvNet(weight_scale=0.001, hidden_dim=500, reg=0.001, use_batchnorm = True)\n",
    "\n",
    "solver = Solver(model, data,\n",
    "                num_epochs=6, batch_size=200,\n",
    "                update_rule='adam',\n",
    "                optim_config={\n",
    "                  'learning_rate': 1e-3,\n",
    "                },\n",
    "                verbose=True, print_every=20)\n",
    "solver.train()\n",
    "\n",
    "# ================================================================ #\n",
    "# END YOUR CODE HERE\n",
    "# ================================================================ #\n"
   ]
  },
  {
   "cell_type": "code",
   "execution_count": null,
   "metadata": {},
   "outputs": [],
   "source": []
  }
 ],
 "metadata": {
  "kernelspec": {
   "display_name": "Python 3",
   "language": "python",
   "name": "python3"
  },
  "language_info": {
   "codemirror_mode": {
    "name": "ipython",
    "version": 3
   },
   "file_extension": ".py",
   "mimetype": "text/x-python",
   "name": "python",
   "nbconvert_exporter": "python",
   "pygments_lexer": "ipython3",
   "version": "3.7.3"
  },
  "varInspector": {
   "cols": {
    "lenName": 16,
    "lenType": 16,
    "lenVar": 40
   },
   "kernels_config": {
    "python": {
     "delete_cmd_postfix": "",
     "delete_cmd_prefix": "del ",
     "library": "var_list.py",
     "varRefreshCmd": "print(var_dic_list())"
    },
    "r": {
     "delete_cmd_postfix": ") ",
     "delete_cmd_prefix": "rm(",
     "library": "var_list.r",
     "varRefreshCmd": "cat(var_dic_list()) "
    }
   },
   "types_to_exclude": [
    "module",
    "function",
    "builtin_function_or_method",
    "instance",
    "_Feature"
   ],
   "window_display": true
  }
 },
 "nbformat": 4,
 "nbformat_minor": 2
}
