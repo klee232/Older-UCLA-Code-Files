{
 "cells": [
  {
   "cell_type": "code",
   "execution_count": 9,
   "metadata": {},
   "outputs": [],
   "source": [
    "import numpy as np\n",
    "import matplotlib.pyplot as plt\n",
    "import time"
   ]
  },
  {
   "cell_type": "code",
   "execution_count": 10,
   "metadata": {},
   "outputs": [],
   "source": [
    "X_test = np.load(\"X_test.npy\")\n",
    "y_test = np.load(\"y_test.npy\")\n",
    "person_train_valid = np.load(\"person_train_valid.npy\")\n",
    "X_train_valid = np.load(\"X_train_valid.npy\")\n",
    "y_train_valid = np.load(\"y_train_valid.npy\")\n",
    "person_test = np.load(\"person_test.npy\")"
   ]
  },
  {
   "cell_type": "code",
   "execution_count": 11,
   "metadata": {},
   "outputs": [],
   "source": [
    "y_train_valid -= 769\n",
    "y_test -= 769"
   ]
  },
  {
   "cell_type": "markdown",
   "metadata": {},
   "source": [
    "### Shape of data"
   ]
  },
  {
   "cell_type": "code",
   "execution_count": 12,
   "metadata": {},
   "outputs": [
    {
     "name": "stdout",
     "output_type": "stream",
     "text": [
      "Training/Valid data shape: (2115, 22, 1000)\n",
      "Test data shape: (443, 22, 1000)\n",
      "Training/Valid target shape: (2115,)\n",
      "Test target shape: (443,)\n",
      "Person train/valid shape: (2115, 1)\n",
      "Person test shape: (443, 1)\n"
     ]
    }
   ],
   "source": [
    "print ('Training/Valid data shape: {}'.format(X_train_valid.shape))\n",
    "print ('Test data shape: {}'.format(X_test.shape))\n",
    "print ('Training/Valid target shape: {}'.format(y_train_valid.shape))\n",
    "print ('Test target shape: {}'.format(y_test.shape))\n",
    "print ('Person train/valid shape: {}'.format(person_train_valid.shape))\n",
    "print ('Person test shape: {}'.format(person_test.shape))"
   ]
  },
  {
   "cell_type": "code",
   "execution_count": 13,
   "metadata": {},
   "outputs": [],
   "source": [
    "perm = np.random.permutation(X_train_valid.shape[0])\n",
    "numTrain = int(0.8*X_train_valid.shape[0])\n",
    "numVal = X_train_valid.shape[0] - numTrain\n",
    "Xtrain = X_train_valid[perm[0:numTrain]]\n",
    "ytrain = y_train_valid[perm[0:numTrain]]\n",
    "Xval = X_train_valid[perm[numTrain: ]]\n",
    "yval = y_train_valid[perm[numTrain: ]]"
   ]
  },
  {
   "cell_type": "code",
   "execution_count": null,
   "metadata": {},
   "outputs": [],
   "source": []
  },
  {
   "cell_type": "code",
   "execution_count": 14,
   "metadata": {},
   "outputs": [],
   "source": [
    "from keras import layers, models"
   ]
  },
  {
   "cell_type": "code",
   "execution_count": 15,
   "metadata": {},
   "outputs": [],
   "source": [
    "from keras import backend as K"
   ]
  },
  {
   "cell_type": "code",
   "execution_count": null,
   "metadata": {},
   "outputs": [],
   "source": [
    "def Ksquare(x):\n",
    "    return K.pow(x, 2)\n",
    "def Klog(x):\n",
    "    return K.log(x)"
   ]
  },
  {
   "cell_type": "code",
   "execution_count": 18,
   "metadata": {},
   "outputs": [
    {
     "name": "stdout",
     "output_type": "stream",
     "text": [
      "WARNING:tensorflow:From c:\\Users\\j\\Anaconda3\\lib\\site-packages\\keras\\backend\\tensorflow_backend.py:4074: The name tf.nn.avg_pool is deprecated. Please use tf.nn.avg_pool2d instead.\n",
      "\n"
     ]
    }
   ],
   "source": [
    "inputs = layers.Input(shape=(22, 1000))\n",
    "r1 = layers.Reshape((1, 22, 1000))(inputs)\n",
    "c1 = layers.Conv2D(40, (1, 25), strides=1, activation='elu',\n",
    "                  data_format='channels_first')(r1)\n",
    "r2 = layers.Reshape((1, 40*22, 976))(c1)\n",
    "c2 = layers.Conv2D(40, (40*22, 1), strides=1, activation='elu',\n",
    "                  data_format='channels_first')(r2)\n",
    "sq1 = layers.Activation(Ksquare)(c2)\n",
    "r3 = layers.Reshape((1, 40, 976))(sq1)\n",
    "apool1 = layers.AveragePooling2D((1, 75), strides=(1, 15), \n",
    "                                 data_format = 'channels_first')(r3)\n",
    "log1 = layers.Activation(Klog)(apool1)\n",
    "f1 = layers.Flatten()(log1)\n",
    "outputs = layers.Dense(4, activation='softmax')(f1)"
   ]
  },
  {
   "cell_type": "code",
   "execution_count": 20,
   "metadata": {},
   "outputs": [],
   "source": [
    "model = models.Model(inputs = inputs, outputs = outputs)\n",
    "model.compile('adam', 'sparse_categorical_crossentropy', metrics=['acc'])"
   ]
  },
  {
   "cell_type": "code",
   "execution_count": 21,
   "metadata": {},
   "outputs": [
    {
     "name": "stdout",
     "output_type": "stream",
     "text": [
      "Model: \"model_1\"\n",
      "_________________________________________________________________\n",
      "Layer (type)                 Output Shape              Param #   \n",
      "=================================================================\n",
      "input_2 (InputLayer)         (None, 22, 1000)          0         \n",
      "_________________________________________________________________\n",
      "reshape_2 (Reshape)          (None, 1, 22, 1000)       0         \n",
      "_________________________________________________________________\n",
      "conv2d_2 (Conv2D)            (None, 40, 22, 976)       1040      \n",
      "_________________________________________________________________\n",
      "reshape_3 (Reshape)          (None, 1, 880, 976)       0         \n",
      "_________________________________________________________________\n",
      "conv2d_3 (Conv2D)            (None, 40, 1, 976)        35240     \n",
      "_________________________________________________________________\n",
      "activation_1 (Activation)    (None, 40, 1, 976)        0         \n",
      "_________________________________________________________________\n",
      "reshape_4 (Reshape)          (None, 1, 40, 976)        0         \n",
      "_________________________________________________________________\n",
      "average_pooling2d_1 (Average (None, 1, 40, 61)         0         \n",
      "_________________________________________________________________\n",
      "activation_2 (Activation)    (None, 1, 40, 61)         0         \n",
      "_________________________________________________________________\n",
      "flatten_1 (Flatten)          (None, 2440)              0         \n",
      "_________________________________________________________________\n",
      "dense_1 (Dense)              (None, 4)                 9764      \n",
      "=================================================================\n",
      "Total params: 46,044\n",
      "Trainable params: 46,044\n",
      "Non-trainable params: 0\n",
      "_________________________________________________________________\n"
     ]
    }
   ],
   "source": [
    "model.summary()"
   ]
  },
  {
   "cell_type": "code",
   "execution_count": 22,
   "metadata": {},
   "outputs": [
    {
     "name": "stdout",
     "output_type": "stream",
     "text": [
      "WARNING:tensorflow:From c:\\Users\\j\\Anaconda3\\lib\\site-packages\\tensorflow_core\\python\\ops\\math_grad.py:1375: where (from tensorflow.python.ops.array_ops) is deprecated and will be removed in a future version.\n",
      "Instructions for updating:\n",
      "Use tf.where in 2.0, which has the same broadcast rule as np.where\n",
      "WARNING:tensorflow:From c:\\Users\\j\\Anaconda3\\lib\\site-packages\\keras\\backend\\tensorflow_backend.py:422: The name tf.global_variables is deprecated. Please use tf.compat.v1.global_variables instead.\n",
      "\n",
      "Train on 1692 samples, validate on 423 samples\n",
      "Epoch 1/10\n",
      "1692/1692 [==============================] - 69s 41ms/step - loss: 1.6597 - acc: 0.2996 - val_loss: 1.3925 - val_acc: 0.3593\n",
      "Epoch 2/10\n",
      "1692/1692 [==============================] - 62s 36ms/step - loss: 1.2525 - acc: 0.4249 - val_loss: 1.3671 - val_acc: 0.3924\n",
      "Epoch 3/10\n",
      "1692/1692 [==============================] - 62s 36ms/step - loss: 1.1359 - acc: 0.5035 - val_loss: 1.3060 - val_acc: 0.4184\n",
      "Epoch 4/10\n",
      "1692/1692 [==============================] - 62s 36ms/step - loss: 1.0122 - acc: 0.5798 - val_loss: 1.2106 - val_acc: 0.5012\n",
      "Epoch 5/10\n",
      "1692/1692 [==============================] - 63s 37ms/step - loss: 0.9020 - acc: 0.6359 - val_loss: 1.2249 - val_acc: 0.4846\n",
      "Epoch 6/10\n",
      "1692/1692 [==============================] - 62s 37ms/step - loss: 0.7688 - acc: 0.6897 - val_loss: 1.1590 - val_acc: 0.5603\n",
      "Epoch 7/10\n",
      "1692/1692 [==============================] - 62s 37ms/step - loss: 0.6937 - acc: 0.7400 - val_loss: 1.1428 - val_acc: 0.5414\n",
      "Epoch 8/10\n",
      "1692/1692 [==============================] - 63s 37ms/step - loss: 0.6167 - acc: 0.7796 - val_loss: 1.3048 - val_acc: 0.5154\n",
      "Epoch 9/10\n",
      "1692/1692 [==============================] - 62s 37ms/step - loss: 0.5851 - acc: 0.7890 - val_loss: 1.2610 - val_acc: 0.5012\n",
      "Epoch 10/10\n",
      "1692/1692 [==============================] - 63s 37ms/step - loss: 0.5140 - acc: 0.8121 - val_loss: 1.2848 - val_acc: 0.5343\n"
     ]
    }
   ],
   "source": [
    "loss_hist = model.fit(Xtrain, ytrain, validation_data=(Xval, yval),\n",
    "                     epochs = 10)"
   ]
  },
  {
   "cell_type": "code",
   "execution_count": 23,
   "metadata": {},
   "outputs": [
    {
     "data": {
      "text/plain": [
       "<matplotlib.legend.Legend at 0x1d6842a7e48>"
      ]
     },
     "execution_count": 23,
     "metadata": {},
     "output_type": "execute_result"
    },
    {
     "data": {
      "image/png": "[encoded data removed]",
      "text/plain": [
       "<Figure size 1080x504 with 2 Axes>"
      ]
     },
     "metadata": {
      "needs_background": "light"
     },
     "output_type": "display_data"
    }
   ],
   "source": [
    "hist = loss_hist.history\n",
    "\n",
    "plt.figure(figsize=(15, 7))\n",
    "plt.subplot(1, 2, 1)\n",
    "plt.plot(hist['loss'])\n",
    "plt.plot(hist['val_loss'])\n",
    "plt.ylabel('loss')\n",
    "plt.xlabel('epoch')\n",
    "plt.legend(['train', 'val'])\n",
    "\n",
    "plt.subplot(1, 2, 2)\n",
    "plt.plot(hist['acc'])\n",
    "plt.plot(hist['val_acc'])\n",
    "plt.ylabel('acc')\n",
    "plt.xlabel('epoch')\n",
    "plt.legend(['train', 'val'])"
   ]
  },
  {
   "cell_type": "code",
   "execution_count": null,
   "metadata": {},
   "outputs": [],
   "source": []
  }
 ],
 "metadata": {
  "kernelspec": {
   "display_name": "Python 3",
   "language": "python",
   "name": "python3"
  },
  "language_info": {
   "codemirror_mode": {
    "name": "ipython",
    "version": 3
   },
   "file_extension": ".py",
   "mimetype": "text/x-python",
   "name": "python",
   "nbconvert_exporter": "python",
   "pygments_lexer": "ipython3",
   "version": "3.7.3"
  }
 },
 "nbformat": 4,
 "nbformat_minor": 2
}
