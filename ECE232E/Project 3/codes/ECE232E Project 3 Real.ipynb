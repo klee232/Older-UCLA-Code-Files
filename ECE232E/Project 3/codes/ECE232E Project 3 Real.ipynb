{
 "cells": [
  {
   "cell_type": "markdown",
   "metadata": {},
   "source": [
    "## ECE 232E Project 3"
   ]
  },
  {
   "cell_type": "code",
   "execution_count": 248,
   "metadata": {},
   "outputs": [],
   "source": [
    "import numpy as np\n",
    "import scipy\n",
    "import matplotlib.pyplot as plt\n",
    "from scipy.optimize import linprog\n",
    "from matplotlib.colors import ListedColormap\n"
   ]
  },
  {
   "cell_type": "markdown",
   "metadata": {},
   "source": [
    "### Problem 1:"
   ]
  },
  {
   "cell_type": "code",
   "execution_count": 249,
   "metadata": {},
   "outputs": [
    {
     "data": {
      "text/plain": [
       "<matplotlib.colorbar.Colorbar at 0x1fa9d3c96a0>"
      ]
     },
     "execution_count": 249,
     "metadata": {},
     "output_type": "execute_result"
    },
    {
     "data": {
      "image/png": "[encoded data removed]",
      "text/plain": [
       "<Figure size 432x288 with 2 Axes>"
      ]
     },
     "metadata": {
      "needs_background": "light"
     },
     "output_type": "display_data"
    }
   ],
   "source": [
    "# reward function 1\n",
    "matrix = np.zeros((10,10))\n",
    "matrix[2][5] = -1.0\n",
    "matrix[2][6] = -1.0\n",
    "matrix[3][5] = -1.0\n",
    "matrix[3][6] = -1.0\n",
    "matrix[4][1] = -1.0\n",
    "matrix[4][2] = -1.0\n",
    "matrix[5][1] = -1.0\n",
    "matrix[5][2] = -1.0\n",
    "matrix[8][2] = -1.0\n",
    "matrix[8][3] = -1.0\n",
    "matrix[9][2] = -1.0\n",
    "matrix[9][3] = -1.0\n",
    "matrix[9][9] = 1.0\n",
    "# plot the heat map\n",
    "plt.pcolor(matrix, vmin=np.min(matrix), vmax=np.max(matrix))\n",
    "plt.ylim(top=0, bottom=10)\n",
    "plt.xlim(left=0, right=10)\n",
    "plt.colorbar()"
   ]
  },
  {
   "cell_type": "code",
   "execution_count": 250,
   "metadata": {},
   "outputs": [
    {
     "data": {
      "text/plain": [
       "<matplotlib.colorbar.Colorbar at 0x1fa9d480f28>"
      ]
     },
     "execution_count": 250,
     "metadata": {},
     "output_type": "execute_result"
    },
    {
     "data": {
      "image/png": "[encoded data removed]",
      "text/plain": [
       "<Figure size 432x288 with 2 Axes>"
      ]
     },
     "metadata": {
      "needs_background": "light"
     },
     "output_type": "display_data"
    }
   ],
   "source": [
    "# reward function 2\n",
    "matrix2 = np.zeros((10,10))\n",
    "matrix2[1][4] = -100.0\n",
    "matrix2[1][5] = -100.0\n",
    "matrix2[1][6] = -100.0\n",
    "matrix2[2][4] = -100.0\n",
    "matrix2[2][6] = -100.0\n",
    "matrix2[3][4] = -100.0\n",
    "matrix2[3][6] = -100.0\n",
    "matrix2[3][7] = -100.0\n",
    "matrix2[3][8] = -100.0\n",
    "matrix2[4][4] = -100.0\n",
    "matrix2[4][8] = -100.0\n",
    "matrix2[5][4] = -100.0\n",
    "matrix2[5][8] = -100.0\n",
    "matrix2[6][4] = -100.0\n",
    "matrix2[6][8] = -100.0\n",
    "matrix2[7][6] = -100.0\n",
    "matrix2[7][7] = -100.0\n",
    "matrix2[7][8] = -100.0\n",
    "matrix2[8][6] = -100.0\n",
    "matrix2[9][9] = 10.0\n",
    "# plot the heat map\n",
    "plt.pcolor(matrix2, vmin=np.min(matrix2), vmax=np.max(matrix2))\n",
    "plt.ylim(top=0, bottom=10)\n",
    "plt.xlim(left=0, right=10)\n",
    "plt.colorbar()"
   ]
  },
  {
   "cell_type": "markdown",
   "metadata": {},
   "source": [
    "### Problem 2:"
   ]
  },
  {
   "cell_type": "code",
   "execution_count": 251,
   "metadata": {},
   "outputs": [],
   "source": [
    "# set up functions\n",
    "# probability function\n",
    "def prob(curr_state, next_state, move, proba):\n",
    "    #check if it's a neighbor\n",
    "    left = curr_state -10\n",
    "    up = curr_state-1\n",
    "    right = curr_state+10\n",
    "    down = curr_state+1\n",
    "    # not a neighbor\n",
    "    if(next_state==left):\n",
    "        if(move == -10):\n",
    "            return (1-proba+proba/4)\n",
    "        else:\n",
    "            return(proba/4)\n",
    "    elif(next_state==up):\n",
    "        if(move == -1):\n",
    "            return (1-proba+proba/4)\n",
    "        else:\n",
    "            return(proba/4)\n",
    "    elif(next_state==right):\n",
    "        if(move == 10):\n",
    "            return (1-proba+proba/4)\n",
    "        else:\n",
    "            return(proba/4)\n",
    "    elif(next_state==down):\n",
    "        if(move == 1):\n",
    "            return (1-proba+proba/4)\n",
    "        else:\n",
    "            return(proba/4)\n",
    "    elif(next_state==curr_state):\n",
    "        record = 0\n",
    "        if left < 0:\n",
    "            if move == -10:\n",
    "                record += (1-proba+proba/4)\n",
    "            else:\n",
    "                record = proba/4\n",
    "        if right > 99:\n",
    "            if move == 10:\n",
    "                record += (1-proba+proba/4)\n",
    "            else:\n",
    "                record = proba/4\n",
    "        if up % 10 == 9:\n",
    "            if move == -1:\n",
    "                record += (1-proba+proba/4)\n",
    "            else:\n",
    "                record += proba/4\n",
    "        if down % 10 == 0:\n",
    "            if move == 1:\n",
    "                record += (1-proba+proba/4)\n",
    "            else:\n",
    "                record += proba/4\n",
    "        return record\n",
    "    else:\n",
    "        return 0            \n",
    "###################################################################\n",
    "# optimal value function \n",
    "def opt_val(probabililty, reward, states, gamma, r):\n",
    "    # initialization\n",
    "    for sx in range(10):\n",
    "        for sy in range(10):\n",
    "            states[sx, sy]=0\n",
    "    # extimation\n",
    "    delta = float('inf')\n",
    "    while(delta > gamma):\n",
    "        delta = 0\n",
    "        store = states[:,:]\n",
    "        for si in range(100):\n",
    "            si_ten, si_dig=divmod(si, 10)\n",
    "            v = states[si_dig, si_ten];\n",
    "            temp=np.zeros(4);\n",
    "            actions = [-10, -1, 10, 1]\n",
    "            for ai in range(4):\n",
    "                sum = 0;\n",
    "                near = [si-10, si-1, si+10, si+1, si]\n",
    "                for sn in near:\n",
    "                    if(sn<0 or sn>=100 or (si%10==9 and sn%10==0) or (si%10==0 and sn%10==9)):\n",
    "                        sum=sum\n",
    "                    else:\n",
    "                        i_ten, i_dig = divmod(sn, 10)\n",
    "                        sum +=prob(si, sn, actions[ai], w)*(reward[i_dig, i_ten] + r * store[i_dig, i_ten])\n",
    "                temp[ai] += sum\n",
    "            states[si_dig, si_ten]=np.max(temp)\n",
    "            delta = max(delta, abs(v-states[si_dig, si_ten]))\n",
    "    return states\n",
    "\n",
    "#####################################################################\n",
    "# optimal direction function \n",
    "def value_iteration(w, reward, states, gamma, r):\n",
    "    # initialization\n",
    "    for sx in range(10):\n",
    "        for sy in range(10):\n",
    "            states[sx, sy]=0\n",
    "    # extimation\n",
    "    delta = float('inf')\n",
    "    while(delta > gamma):\n",
    "        delta = 0\n",
    "        store = states[:,:]\n",
    "        direction = np.zeros((10,10))\n",
    "        act = [0, 1, 2, 3]\n",
    "        for si in range(100):\n",
    "            si_ten, si_dig=divmod(si, 10)\n",
    "            v = states[si_dig, si_ten];\n",
    "            temp=np.zeros(4);\n",
    "            actions = [-10, -1, 10, 1]\n",
    "            for ai in range(4):\n",
    "                sum = 0;\n",
    "                near = [si-10, si-1, si+10, si+1, si]\n",
    "                for sn in near:\n",
    "                    if(sn<0 or sn>=100 or (si%10==9 and sn%10==0) or (si%10==0 and sn%10==9)):\n",
    "                        sum=sum\n",
    "                    else:\n",
    "                        i_ten, i_dig = divmod(sn, 10)\n",
    "                        sum +=prob(si, sn, actions[ai], w)*(reward[i_dig, i_ten] + r * store[i_dig, i_ten])\n",
    "                temp[ai] += sum\n",
    "            states[si_dig, si_ten]=np.max(temp)\n",
    "            delta = max(delta, abs(v-states[si_dig, si_ten]))\n",
    "            # actions\n",
    "            direction[si_dig, si_ten]=act[np.argmax(temp)]\n",
    "    return states,direction\n",
    "###########################################################################\n",
    "def next_state(curr_dig, curr_ten, a):\n",
    "    if(a==0):\n",
    "        next_ten=max(curr_ten-1, 0)\n",
    "        next_dig=curr_dig\n",
    "    elif(a==1):\n",
    "        next_ten=curr_ten\n",
    "        next_dig=max(curr_dig-1,0)\n",
    "    elif(a==2):\n",
    "        next_ten=min(curr_ten+1, 9)\n",
    "        next_dig=curr_dig\n",
    "    elif(a==3):\n",
    "        next_ten=curr_ten\n",
    "        next_dig=min(curr_dig+1,9)\n",
    "    next = next_ten*10 + next_dig                \n",
    "    return next\n",
    "        \n",
    "def trans(optt, p):\n",
    "    pa=np.zeros((100,100))\n",
    "    for curr in range(100):\n",
    "        curr_ten, curr_dig=divmod(curr, 10)\n",
    "        opt_dir = optt[curr_dig, curr_ten]\n",
    "        for ai in range(4):\n",
    "                next = next_state(curr_dig, curr_ten, ai)\n",
    "                prob=p/4\n",
    "                if(ai==opt_dir):\n",
    "                    prob+=1-p\n",
    "                pa[curr][next]=prob\n",
    "    return pa\n",
    "    \n",
    "def D_b(dd1, nr, w):\n",
    "    # d\n",
    "    I=np.identity(100)\n",
    "    # generate transition matrix\n",
    "    pa1=trans(dd1, w)\n",
    "    pa2=trans(np.mod(dd1+1,4), w)\n",
    "    pa3=trans(np.mod(dd1+2,4), w)\n",
    "    pa4=trans(np.mod(dd1+3,4), w)\n",
    "    # generate D\n",
    "    zeroN=np.zeros((100,100))\n",
    "    row1 = np.concatenate((I, zeroN, np.dot((pa2-pa1), np.linalg.inv(I-nr*pa1))), axis=1)\n",
    "    row2 = np.concatenate((I, zeroN, np.dot((pa3-pa1), np.linalg.inv(I-nr*pa1))), axis=1)\n",
    "    row3 = np.concatenate((I, zeroN, np.dot((pa4-pa1), np.linalg.inv(I-nr*pa1))), axis=1)\n",
    "    row4 = np.concatenate((zeroN, zeroN, np.dot((pa2-pa1), np.linalg.inv(I-nr*pa1))), axis=1)\n",
    "    row5 = np.concatenate((zeroN, zeroN, np.dot((pa3-pa1), np.linalg.inv(I-nr*pa1))), axis=1)\n",
    "    row6 = np.concatenate((zeroN, zeroN, np.dot((pa4-pa1), np.linalg.inv(I-nr*pa1))), axis=1)\n",
    "    row7 = np.concatenate((zeroN, -I, I), axis=1)\n",
    "    row8 = np.concatenate((zeroN, -I, -I), axis=1)\n",
    "    row9 = np.concatenate((zeroN, zeroN, I), axis=1)\n",
    "    row10 = np.concatenate((zeroN, zeroN, -I), axis=1)\n",
    "    D=np.concatenate((row1, row2, row3, row4, row5, row6, row7, row8, row9, row10), axis=0)\n",
    "    #G= matrix(D)\n",
    "    # generate b\n",
    "    zero1=np.zeros((2*100,1))\n",
    "    r_max = np.ones((100,1))\n",
    "    b = np.concatenate((zero1, zero1, zero1, zero1, r_max, r_max),axis=0)\n",
    "    return D,b\n",
    "############################################################################\n",
    "# optimal direction function \n",
    "def value_iteration_arrow(w, reward, states, gamma, r):\n",
    "    # initialization\n",
    "    for sx in range(10):\n",
    "        for sy in range(10):\n",
    "            states[sx, sy]=0\n",
    "    # extimation\n",
    "    delta = float('inf')\n",
    "    while(delta > gamma):\n",
    "        delta = 0\n",
    "        store = states[:,:]\n",
    "        direction = np.chararray((10,10),unicode=True)\n",
    "        act = ['\\u2190', '\\u2191', '\\u2192', '\\u2193']\n",
    "        for si in range(100):\n",
    "            si_ten, si_dig=divmod(si, 10)\n",
    "            v = states[si_dig, si_ten];\n",
    "            temp=np.zeros(4);\n",
    "            actions = [-10, -1, 10, 1]\n",
    "            for ai in range(4):\n",
    "                sum = 0;\n",
    "                near = [si-10, si-1, si+10, si+1, si]\n",
    "                for sn in near:\n",
    "                    if(sn<0 or sn>=100 or (si%10==9 and sn%10==0) or (si%10==0 and sn%10==9)):\n",
    "                        sum=sum\n",
    "                    else:\n",
    "                        i_ten, i_dig = divmod(sn, 10)\n",
    "                        sum +=prob(si, sn, actions[ai], w)*(reward[i_dig, i_ten] + r * store[i_dig, i_ten])\n",
    "                temp[ai] += sum\n",
    "            states[si_dig, si_ten]=np.max(temp)\n",
    "            delta = max(delta, abs(v-states[si_dig, si_ten]))\n",
    "            # actions\n",
    "            direction[si_dig, si_ten]=act[np.argmax(temp)]\n",
    "    return states,direction"
   ]
  },
  {
   "cell_type": "code",
   "execution_count": 252,
   "metadata": {},
   "outputs": [],
   "source": [
    "# creating the environment\n",
    "states = np.zeros((10,10))\n",
    "for i in range(10):\n",
    "    for j in range(10):\n",
    "        states[i][j] += 10*j + i\n",
    "        \n",
    "gamma = 0.01\n",
    "w = 0.1\n",
    "nr = 0.8\n"
   ]
  },
  {
   "cell_type": "code",
   "execution_count": 50,
   "metadata": {},
   "outputs": [
    {
     "name": "stdout",
     "output_type": "stream",
     "text": [
      "     0.04    0.061    0.088    0.122    0.165     0.22     0.29    0.379     0.49     0.61\n",
      "    0.054    0.079     0.11    0.149    0.179    0.236    0.348    0.488    0.632    0.787\n",
      "    0.077    0.108    0.149      0.2    0.236    0.146    0.412    0.606    0.816    1.019\n",
      "    0.072    0.101    0.174    0.265    0.348    0.414    0.562    0.792    1.052    1.315\n",
      "    0.096    0.034    0.211    0.349    0.489    0.608    0.792    1.053    1.352    1.695\n",
      "    0.167    0.195    0.303    0.464    0.635    0.819    1.054    1.353    1.733    2.182\n",
      "    0.257    0.327    0.461    0.634     0.82    1.054    1.353    1.734     2.22    2.807\n",
      "    0.337    0.442     0.58    0.791    1.053    1.353    1.734     2.22    2.839    3.608\n",
      "    0.265    0.319    0.407    0.971    1.324    1.733     2.22    2.839    3.629    4.635\n",
      "    0.208    0.222    0.124    1.197    1.666    2.182    2.807    3.608    4.635    4.702\n"
     ]
    }
   ],
   "source": [
    "opt = opt_val(w, matrix, states, gamma, nr)\n",
    "r_opt = np.round(opt, decimals =3)\n",
    "print('\\n'.join([''.join(['{:9}'.format(item) for item in row]) \n",
    "      for row in r_opt]))\n"
   ]
  },
  {
   "cell_type": "markdown",
   "metadata": {},
   "source": [
    "### Problem 3:"
   ]
  },
  {
   "cell_type": "code",
   "execution_count": 64,
   "metadata": {},
   "outputs": [
    {
     "data": {
      "text/plain": [
       "<matplotlib.colorbar.Colorbar at 0x1fa993f64a8>"
      ]
     },
     "execution_count": 64,
     "metadata": {},
     "output_type": "execute_result"
    },
    {
     "data": {
      "image/png": "[encoded data removed]",
      "text/plain": [
       "<Figure size 432x288 with 2 Axes>"
      ]
     },
     "metadata": {
      "needs_background": "light"
     },
     "output_type": "display_data"
    }
   ],
   "source": [
    "# genetate heat map for previous part\n",
    "plt.pcolor(r_opt, vmin=np.min(r_opt), vmax=np.max(r_opt))\n",
    "plt.colorbar()\n"
   ]
  },
  {
   "cell_type": "markdown",
   "metadata": {},
   "source": [
    "### Problem 5:"
   ]
  },
  {
   "cell_type": "code",
   "execution_count": 142,
   "metadata": {},
   "outputs": [
    {
     "name": "stdout",
     "output_type": "stream",
     "text": [
      "[['→' '→' '→' '→' '→' '→' '→' '→' '↓' '↓']\n",
      " ['→' '→' '→' '↓' '↓' '→' '→' '→' '↓' '↓']\n",
      " ['→' '→' '→' '↓' '↓' '←' '→' '→' '↓' '↓']\n",
      " ['→' '→' '→' '↓' '↓' '↓' '↓' '↓' '↓' '↓']\n",
      " ['↓' '↑' '→' '→' '↓' '↓' '↓' '↓' '↓' '↓']\n",
      " ['↓' '↓' '→' '→' '↓' '↓' '↓' '↓' '↓' '↓']\n",
      " ['↓' '→' '→' '→' '→' '→' '→' '↓' '↓' '↓']\n",
      " ['→' '→' '→' '→' '→' '→' '→' '→' '↓' '↓']\n",
      " ['↑' '↑' '↑' '→' '→' '→' '→' '→' '→' '↓']\n",
      " ['↑' '↑' '←' '→' '→' '→' '→' '→' '→' '→']]\n"
     ]
    }
   ],
   "source": [
    "direction1 = np.chararray((10,10), unicode=True)\n",
    "r = 0.8\n",
    "w = 0.1\n",
    "gamma = 0.01\n",
    "\n",
    "\n",
    "s1, direction1=value_iteration_arrow(w, matrix, states, gamma, r)\n",
    "    \n",
    "print(direction1)"
   ]
  },
  {
   "cell_type": "markdown",
   "metadata": {},
   "source": [
    "### Problem 6:"
   ]
  },
  {
   "cell_type": "code",
   "execution_count": 53,
   "metadata": {},
   "outputs": [
    {
     "name": "stdout",
     "output_type": "stream",
     "text": [
      "     0.04    0.061    0.088    0.122    0.165     0.22     0.29    0.379     0.49     0.61\n",
      "    0.054    0.079     0.11    0.149    0.179    0.236    0.348    0.488    0.632    0.787\n",
      "    0.077    0.108    0.149      0.2    0.236    0.146    0.412    0.606    0.816    1.019\n",
      "    0.072    0.101    0.174    0.265    0.348    0.414    0.562    0.792    1.052    1.315\n",
      "    0.096    0.034    0.211    0.349    0.489    0.608    0.792    1.053    1.352    1.695\n",
      "    0.167    0.195    0.303    0.464    0.635    0.819    1.054    1.353    1.733    2.182\n",
      "    0.257    0.327    0.461    0.634     0.82    1.054    1.353    1.734     2.22    2.807\n",
      "    0.337    0.442     0.58    0.791    1.053    1.353    1.734     2.22    2.839    3.608\n",
      "    0.265    0.319    0.407    0.971    1.324    1.733     2.22    2.839    3.629    4.635\n",
      "    0.208    0.222    0.124    1.197    1.666    2.182    2.807    3.608    4.635    4.702\n"
     ]
    }
   ],
   "source": [
    "opt2 = opt_val(w, matrix2, states, gamma, nr)\n",
    "r_opt2 = np.round(opt, decimals =3)\n",
    "print('\\n'.join([''.join(['{:9}'.format(item) for item in row]) \n",
    "      for row in r_opt]))"
   ]
  },
  {
   "cell_type": "markdown",
   "metadata": {},
   "source": [
    "### Problem 7:"
   ]
  },
  {
   "cell_type": "code",
   "execution_count": 63,
   "metadata": {},
   "outputs": [
    {
     "data": {
      "text/plain": [
       "<matplotlib.colorbar.Colorbar at 0x1fa9961c898>"
      ]
     },
     "execution_count": 63,
     "metadata": {},
     "output_type": "execute_result"
    },
    {
     "data": {
      "image/png": "[encoded data removed]",
      "text/plain": [
       "<Figure size 432x288 with 2 Axes>"
      ]
     },
     "metadata": {
      "needs_background": "light"
     },
     "output_type": "display_data"
    }
   ],
   "source": [
    "# genetate heat map for previous part\n",
    "plt.pcolor(r_opt2, vmin=np.min(r_opt2), vmax=np.max(r_opt2))\n",
    "plt.colorbar()"
   ]
  },
  {
   "cell_type": "markdown",
   "metadata": {},
   "source": [
    "### Problem 8:"
   ]
  },
  {
   "cell_type": "code",
   "execution_count": 58,
   "metadata": {},
   "outputs": [
    {
     "name": "stdout",
     "output_type": "stream",
     "text": [
      "[['↓' '↓' '↓' '←' '←' '→' '→' '→' '→' '↓']\n",
      " ['↓' '↓' '↓' '←' '←' '↑' '→' '→' '→' '↓']\n",
      " ['↓' '↓' '↓' '←' '←' '↓' '→' '→' '→' '↓']\n",
      " ['↓' '↓' '↓' '←' '←' '↓' '↓' '↑' '→' '↓']\n",
      " ['↓' '↓' '↓' '←' '←' '↓' '↓' '↓' '→' '↓']\n",
      " ['↓' '↓' '↓' '←' '←' '↓' '↓' '←' '→' '↓']\n",
      " ['↓' '↓' '↓' '↓' '↓' '↓' '←' '←' '→' '↓']\n",
      " ['↓' '↓' '↓' '↓' '↓' '↓' '←' '↓' '↓' '↓']\n",
      " ['→' '→' '→' '↓' '↓' '↓' '↓' '↓' '↓' '↓']\n",
      " ['→' '→' '→' '→' '→' '→' '→' '→' '→' '→']]\n"
     ]
    }
   ],
   "source": [
    "direction2 = np.chararray((10,10), unicode=True)\n",
    "r = 0.8\n",
    "w = 0.1\n",
    "\n",
    "s2, direction2=value_iteration_arrow(w, matrix2, states,gamma, r)\n",
    "    \n",
    "print(direction2)"
   ]
  },
  {
   "cell_type": "markdown",
   "metadata": {},
   "source": [
    "### Problem 9:"
   ]
  },
  {
   "cell_type": "code",
   "execution_count": 204,
   "metadata": {},
   "outputs": [
    {
     "name": "stdout",
     "output_type": "stream",
     "text": [
      "[['←' '←' '←' '←' '←' '←' '→' '→' '→' '↑']\n",
      " ['↑' '←' '←' '←' '←' '↑' '→' '→' '↑' '↑']\n",
      " ['↑' '←' '←' '←' '←' '↓' '→' '→' '↑' '↑']\n",
      " ['↓' '←' '←' '←' '←' '↓' '↓' '↑' '↑' '↑']\n",
      " ['↓' '←' '←' '←' '←' '↓' '↓' '←' '→' '↑']\n",
      " ['↓' '←' '←' '←' '←' '→' '←' '←' '→' '↓']\n",
      " ['↓' '←' '←' '←' '←' '↓' '↑' '←' '→' '↓']\n",
      " ['↓' '←' '←' '←' '←' '←' '←' '↓' '↓' '↓']\n",
      " ['↓' '←' '←' '←' '←' '←' '↓' '↓' '↓' '↓']\n",
      " ['←' '←' '←' '←' '←' '←' '→' '→' '→' '→']]\n"
     ]
    }
   ],
   "source": [
    "direction2 = np.chararray((10,10), unicode=True)\n",
    "r = 0.8\n",
    "w = 0.6\n",
    "\n",
    "s2, direction2=value_iteration_arrow(w, matrix2, states,gamma, r)\n",
    "    \n",
    "print(direction2)"
   ]
  },
  {
   "cell_type": "code",
   "execution_count": 89,
   "metadata": {},
   "outputs": [
    {
     "name": "stdout",
     "output_type": "stream",
     "text": [
      "   -0.239   -0.585   -2.458  -10.744  -38.959  -53.717  -41.268  -13.498   -4.834   -2.635\n",
      "   -0.298   -0.954   -5.136  -30.824  -67.586   -84.81  -74.436  -40.013  -12.309   -4.848\n",
      "   -0.356   -1.135   -6.019  -34.706  -76.431 -117.772  -97.518  -75.387  -39.989  -13.584\n",
      "   -0.386   -1.182   -6.151   -34.89  -74.317  -94.819  -94.031  -94.075  -74.144  -41.851\n",
      "   -0.353   -1.144    -6.02  -34.177  -70.123  -69.284  -67.412  -89.367  -85.313  -57.959\n",
      "   -0.289   -1.038   -5.647  -32.717  -65.447  -60.002  -50.203   -68.16  -84.904  -61.257\n",
      "   -0.199   -0.797   -4.514  -27.311  -45.305    -56.2  -62.779   -84.64  -79.424  -49.451\n",
      "   -0.101   -0.366   -1.734   -8.016  -30.756  -47.795  -73.232  -77.545  -60.969  -26.434\n",
      "   -0.049   -0.143   -0.583   -2.375    -8.81  -31.078  -44.684  -48.363  -20.354   11.348\n",
      "   -0.031   -0.066   -0.225   -0.828   -2.869   -9.194  -25.816   -2.838   14.565   22.966\n"
     ]
    }
   ],
   "source": [
    "# creating the environment\n",
    "nstates3 = np.zeros((10,10))\n",
    "for i in range(10):\n",
    "    for j in range(10):\n",
    "        states[i][j] += 10*j + i\n",
    "        \n",
    "\n",
    "nopt2 = opt_val(nw, matrix2, nstates3, gamma, r)\n",
    "nr_opt2 = np.round(nopt2, decimals =3)\n",
    "print('\\n'.join([''.join(['{:9}'.format(item) for item in row]) \n",
    "      for row in nr_opt2]))\n"
   ]
  },
  {
   "cell_type": "markdown",
   "metadata": {},
   "source": [
    "### Problem 11:"
   ]
  },
  {
   "cell_type": "code",
   "execution_count": 159,
   "metadata": {},
   "outputs": [],
   "source": [
    "nstates4 = np.zeros((10,10))\n",
    "for i in range(10):\n",
    "    for j in range(10):\n",
    "        nstates4[i][j] += 10*j + i\n",
    "gamma = 0.01\n",
    "nnw = 0.1\n",
    "s3, d3= value_iteration(nnw, matrix, nstates4, gamma, nr)\n"
   ]
  },
  {
   "cell_type": "code",
   "execution_count": 190,
   "metadata": {},
   "outputs": [],
   "source": [
    "nstates4 = np.zeros((10,10))\n",
    "for i in range(10):\n",
    "    for j in range(10):\n",
    "        nstates4[i][j] += 10*j + i\n",
    "gamma = 0.01\n",
    "nnw = 0.1\n",
    "s3, d3= value_iteration(nnw, matrix, nstates4, gamma, nr)\n",
    "\n",
    "D, b = D_b(d3,0.8, 0.1)\n",
    "lambs =np.linspace(0,5,500)\n",
    "acc=np.zeros(500)\n",
    "for i, lamb in enumerate(np.linspace(0,5,500)):\n",
    "    # form c\n",
    "    c = np.concatenate((np.ones((100,)), -lamb*np.ones((100,)), np.zeros((100,))))\n",
    "    # solve\n",
    "    #ct=np.transpose(c)\n",
    "    res = linprog(c,A_ub=D,b_ub=b, A_eq=None, b_eq=None, bounds=None)\n",
    "    opt_x=np.array(res['x'])\n",
    "    R=np.reshape(opt_x[200:], (10,10)).T\n",
    "    s4, d4= value_iteration_arrow(nnw, R, nstates4, gamma, nr)\n",
    "    accuracy=np.sum(d4==direction1)/100\n",
    "    acc[i]=accuracy\n"
   ]
  },
  {
   "cell_type": "code",
   "execution_count": 169,
   "metadata": {},
   "outputs": [
    {
     "data": {
      "text/plain": [
       "[<matplotlib.lines.Line2D at 0x1fa9bd14748>]"
      ]
     },
     "execution_count": 169,
     "metadata": {},
     "output_type": "execute_result"
    },
    {
     "data": {
      "image/png": "[encoded data removed]",
      "text/plain": [
       "<Figure size 432x288 with 1 Axes>"
      ]
     },
     "metadata": {
      "needs_background": "light"
     },
     "output_type": "display_data"
    }
   ],
   "source": [
    "plt.plot(acc*100)"
   ]
  },
  {
   "cell_type": "markdown",
   "metadata": {},
   "source": [
    "### Problem12:"
   ]
  },
  {
   "cell_type": "code",
   "execution_count": 176,
   "metadata": {},
   "outputs": [
    {
     "name": "stdout",
     "output_type": "stream",
     "text": [
      "(array([145], dtype=int64),)\n"
     ]
    }
   ],
   "source": [
    "lamb_maxindex=np.where(acc==np.amax(acc))\n",
    "print(lamb_max)"
   ]
  },
  {
   "cell_type": "code",
   "execution_count": 172,
   "metadata": {},
   "outputs": [
    {
     "name": "stdout",
     "output_type": "stream",
     "text": [
      "     0.04    0.061    0.088    0.122    0.165     0.22     0.29    0.379     0.49     0.61\n",
      "    0.054    0.079     0.11    0.149    0.179    0.236    0.348    0.488    0.632    0.787\n",
      "    0.077    0.108    0.149      0.2    0.236    0.146    0.412    0.606    0.816    1.019\n",
      "    0.072    0.101    0.174    0.265    0.348    0.414    0.562    0.792    1.052    1.315\n",
      "    0.096    0.034    0.211    0.349    0.489    0.608    0.792    1.053    1.352    1.695\n",
      "    0.167    0.195    0.303    0.464    0.635    0.819    1.054    1.353    1.733    2.182\n",
      "    0.257    0.327    0.461    0.634     0.82    1.054    1.353    1.734     2.22    2.807\n",
      "    0.337    0.442     0.58    0.791    1.053    1.353    1.734     2.22    2.839    3.608\n",
      "    0.265    0.319    0.407    0.971    1.324    1.733     2.22    2.839    3.629    4.635\n",
      "    0.208    0.222    0.124    1.197    1.666    2.182    2.807    3.608    4.635    4.702\n"
     ]
    },
    {
     "data": {
      "text/plain": [
       "<matplotlib.colorbar.Colorbar at 0x1fa9c003e48>"
      ]
     },
     "execution_count": 172,
     "metadata": {},
     "output_type": "execute_result"
    },
    {
     "data": {
      "image/png": "[encoded data removed]",
      "text/plain": [
       "<Figure size 432x288 with 2 Axes>"
      ]
     },
     "metadata": {
      "needs_background": "light"
     },
     "output_type": "display_data"
    }
   ],
   "source": [
    "#original\n",
    "opt = opt_val(w, matrix, states, gamma, nr)\n",
    "r_opt = np.round(opt, decimals =3)\n",
    "print('\\n'.join([''.join(['{:9}'.format(item) for item in row]) \n",
    "      for row in r_opt]))\n",
    "plt.pcolor(r_opt, vmin=np.min(r_opt), vmax=np.max(r_opt))\n",
    "plt.colorbar()"
   ]
  },
  {
   "cell_type": "code",
   "execution_count": 179,
   "metadata": {},
   "outputs": [
    {
     "name": "stdout",
     "output_type": "stream",
     "text": [
      "    4.809    5.022    5.287    5.499    5.306    5.408    5.675    5.927    6.451    5.925\n",
      "    4.422    4.936    5.482    6.206    5.652     5.24      5.7    6.445    6.578    6.473\n",
      "     4.76     5.42    6.219     6.77     6.26    5.649    5.718    6.548    6.594    6.692\n",
      "    5.256    5.859    6.768    6.875    7.218     6.33    6.113    6.565     6.88    7.043\n",
      "    4.947    5.717    6.822    7.245    7.483    7.243    7.001    7.176    7.327     7.46\n",
      "    5.446    5.677    6.409     7.47    7.657    7.941    8.114    8.282    7.858    7.948\n",
      "    6.205    6.403    6.638    7.607    7.945     8.16    8.336    8.523    8.669    8.464\n",
      "    6.424    6.403     6.44    6.902    7.644    7.963    8.522    8.686    8.888    9.099\n",
      "    6.206    6.395    6.359    6.371    6.891    7.497    8.065    8.869    9.109    9.698\n",
      "    5.524     5.61    5.412    5.648    6.416    7.234     8.04    8.725    9.679    9.725\n"
     ]
    },
    {
     "data": {
      "text/plain": [
       "<matplotlib.colorbar.Colorbar at 0x1fa9c156c18>"
      ]
     },
     "execution_count": 179,
     "metadata": {},
     "output_type": "execute_result"
    },
    {
     "data": {
      "image/png": "[encoded data removed]",
      "text/plain": [
       "<Figure size 432x288 with 2 Axes>"
      ]
     },
     "metadata": {
      "needs_background": "light"
     },
     "output_type": "display_data"
    }
   ],
   "source": [
    "lamb_max=0.01*145;\n",
    "# form c\n",
    "c = np.concatenate((np.ones((100,)), -lamb_max*np.ones((100,)), np.zeros((100,))))\n",
    "# solve\n",
    "#ct=np.transpose(c)\n",
    "res = linprog(c,A_ub=D,b_ub=b, A_eq=None, b_eq=None, bounds=None)\n",
    "opt_x=np.array(res['x'])\n",
    "R=np.reshape(opt_x[200:], (10,10)).T\n",
    "#extracted\n",
    "opt_extracted = opt_val(w, R, states, gamma, nr)\n",
    "r_opt_extracted = np.round(opt_extracted, decimals =3)\n",
    "print('\\n'.join([''.join(['{:9}'.format(item) for item in row]) \n",
    "      for row in r_opt_extracted]))\n",
    "plt.pcolor(r_opt_extracted, vmin=np.min(r_opt_extracted), vmax=np.max(r_opt_extracted))\n",
    "plt.colorbar()"
   ]
  },
  {
   "cell_type": "markdown",
   "metadata": {},
   "source": [
    "### Problem 14:"
   ]
  },
  {
   "cell_type": "code",
   "execution_count": 181,
   "metadata": {},
   "outputs": [
    {
     "name": "stdout",
     "output_type": "stream",
     "text": [
      "    4.809    5.022    5.287    5.499    5.306    5.408    5.675    5.927    6.451    5.925\n",
      "    4.422    4.936    5.482    6.206    5.652     5.24      5.7    6.445    6.578    6.473\n",
      "     4.76     5.42    6.219     6.77     6.26    5.649    5.718    6.548    6.594    6.692\n",
      "    5.256    5.859    6.768    6.875    7.218     6.33    6.113    6.565     6.88    7.043\n",
      "    4.947    5.717    6.822    7.245    7.483    7.243    7.001    7.176    7.327     7.46\n",
      "    5.446    5.677    6.409     7.47    7.657    7.941    8.114    8.282    7.858    7.948\n",
      "    6.205    6.403    6.638    7.607    7.945     8.16    8.336    8.523    8.669    8.464\n",
      "    6.424    6.403     6.44    6.902    7.644    7.963    8.522    8.686    8.888    9.099\n",
      "    6.206    6.395    6.359    6.371    6.891    7.497    8.065    8.869    9.109    9.698\n",
      "    5.524     5.61    5.412    5.648    6.416    7.234     8.04    8.725    9.679    9.725\n"
     ]
    }
   ],
   "source": [
    "print('\\n'.join([''.join(['{:9}'.format(item) for item in row]) \n",
    "      for row in r_opt_extracted]))"
   ]
  },
  {
   "cell_type": "markdown",
   "metadata": {},
   "source": [
    "### Problem 16:"
   ]
  },
  {
   "cell_type": "code",
   "execution_count": 182,
   "metadata": {},
   "outputs": [
    {
     "name": "stdout",
     "output_type": "stream",
     "text": [
      "[['→' '→' '→' '↓' '←' '→' '→' '→' '↓' '↓']\n",
      " ['→' '→' '→' '↓' '↓' '↑' '→' '→' '↓' '←']\n",
      " ['→' '→' '→' '↓' '↓' '←' '→' '→' '↓' '↓']\n",
      " ['→' '→' '→' '↓' '↓' '↓' '↓' '→' '↓' '↓']\n",
      " ['→' '→' '→' '→' '↓' '←' '↓' '↓' '↓' '↓']\n",
      " ['↓' '↓' '→' '→' '↓' '↓' '↓' '↓' '↓' '↓']\n",
      " ['↓' '↓' '→' '→' '→' '→' '→' '↓' '↓' '↓']\n",
      " ['→' '→' '←' '→' '↑' '↑' '→' '→' '↓' '↓']\n",
      " ['↑' '↑' '↑' '↑' '↑' '→' '→' '→' '→' '↓']\n",
      " ['↑' '↑' '↑' '→' '→' '→' '→' '→' '→' '→']]\n"
     ]
    }
   ],
   "source": [
    "lamb_max=0.01*145;\n",
    "# form c\n",
    "c = np.concatenate((np.ones((100,)), -lamb_max*np.ones((100,)), np.zeros((100,))))\n",
    "# solve\n",
    "#ct=np.transpose(c)\n",
    "res = linprog(c,A_ub=D,b_ub=b, A_eq=None, b_eq=None, bounds=None)\n",
    "opt_x=np.array(res['x'])\n",
    "R=np.reshape(opt_x[200:], (10,10)).T\n",
    "ns4, nd4= value_iteration_arrow(nnw, R, nstates4, gamma, nr)\n",
    "print(nd4)"
   ]
  },
  {
   "cell_type": "markdown",
   "metadata": {},
   "source": [
    "### Problem 18:"
   ]
  },
  {
   "cell_type": "code",
   "execution_count": 185,
   "metadata": {},
   "outputs": [],
   "source": [
    "nstates6 = np.zeros((10,10))\n",
    "for i in range(10):\n",
    "    for j in range(10):\n",
    "        nstates6[i][j] += 10*j + i\n",
    "gamma = 0.01\n",
    "nnw = 0.1\n",
    "s5, d5= value_iteration(nnw, matrix2, nstates6, gamma, nr)\n",
    "\n",
    "D2, b2 = D_b(d5,0.8, 0.1)\n",
    "lambs =np.linspace(0,5,500)\n",
    "acc2=np.zeros(500)\n",
    "for i, lamb in enumerate(np.linspace(0,5,500)):\n",
    "    # form c\n",
    "    c2 = np.concatenate((np.ones((100,)), -lamb*np.ones((100,)), np.zeros((100,))))\n",
    "    # solve\n",
    "    #ct=np.transpose(c)\n",
    "    res2 = linprog(c2,A_ub=D2,b_ub=b2, A_eq=None, b_eq=None, bounds=None)\n",
    "    opt_x2=np.array(res2['x'])\n",
    "    R2=np.reshape(opt_x2[200:], (10,10)).T\n",
    "    s7, d7= value_iteration_arrow(nnw, R2, nstates6, gamma, nr)\n",
    "    accuracy2=np.sum(d7==direction2)/100\n",
    "    acc2[i]=accuracy2\n"
   ]
  },
  {
   "cell_type": "code",
   "execution_count": 186,
   "metadata": {},
   "outputs": [
    {
     "data": {
      "text/plain": [
       "[<matplotlib.lines.Line2D at 0x1fa9c1c2908>]"
      ]
     },
     "execution_count": 186,
     "metadata": {},
     "output_type": "execute_result"
    },
    {
     "data": {
      "image/png": "[encoded data removed]",
      "text/plain": [
       "<Figure size 432x288 with 1 Axes>"
      ]
     },
     "metadata": {
      "needs_background": "light"
     },
     "output_type": "display_data"
    }
   ],
   "source": [
    "plt.plot(acc2*100)"
   ]
  },
  {
   "cell_type": "markdown",
   "metadata": {},
   "source": [
    "### Problem 19:"
   ]
  },
  {
   "cell_type": "code",
   "execution_count": 195,
   "metadata": {},
   "outputs": [
    {
     "name": "stdout",
     "output_type": "stream",
     "text": [
      "(array([3, 4], dtype=int64),)\n"
     ]
    }
   ],
   "source": [
    "lamb_maxindex2=np.where(acc2==np.amax(acc2))\n",
    "print(lamb_maxindex2)"
   ]
  },
  {
   "cell_type": "markdown",
   "metadata": {},
   "source": [
    "### Problem 20:"
   ]
  },
  {
   "cell_type": "code",
   "execution_count": 192,
   "metadata": {},
   "outputs": [
    {
     "name": "stdout",
     "output_type": "stream",
     "text": [
      "    0.648    0.794    0.825    0.536    -2.37   -4.234   -1.921    1.131    1.594    2.038\n",
      "     0.83    1.021    1.066   -1.868   -6.738   -8.674    -6.37   -1.295    1.928     2.61\n",
      "    1.064    1.317     1.45   -1.624   -6.742  -13.911   -9.649   -5.511   -0.131    3.359\n",
      "     1.36    1.693    1.948   -1.232   -6.323   -7.978   -7.937   -9.424   -1.914    4.391\n",
      "    1.737    2.172     2.59   -0.726   -5.831   -3.254    -3.23   -7.419    1.719    9.163\n",
      "    2.214    2.781    3.417   -0.028   -5.099   -0.549   -0.477   -2.968    6.587   15.357\n",
      "    2.819    3.557    4.482    3.028    2.484    2.884   -0.455   -4.895   12.692     23.3\n",
      "    3.587    4.543    5.796    7.292    6.722    7.245    0.941    12.37   21.163   33.486\n",
      "    4.561    5.798    7.401    9.443   12.012   12.893   17.101   23.018   33.782   46.532\n",
      "     5.73     7.32    9.391   12.048   15.456   19.828   25.501   36.161   46.587   47.315\n"
     ]
    },
    {
     "data": {
      "text/plain": [
       "<matplotlib.colorbar.Colorbar at 0x1fa9be026a0>"
      ]
     },
     "execution_count": 192,
     "metadata": {},
     "output_type": "execute_result"
    },
    {
     "data": {
      "image/png": "[encoded data removed]",
      "text/plain": [
       "<Figure size 432x288 with 2 Axes>"
      ]
     },
     "metadata": {
      "needs_background": "light"
     },
     "output_type": "display_data"
    }
   ],
   "source": [
    "# orignal\n",
    "opt2 = opt_val(w, matrix2, states, gamma, nr)\n",
    "r_opt2 = np.round(opt, decimals =3)\n",
    "print('\\n'.join([''.join(['{:9}'.format(item) for item in row]) \n",
    "      for row in r_opt2]))\n",
    "# genetate heat map for previous part\n",
    "plt.pcolor(r_opt2, vmin=np.min(r_opt2), vmax=np.max(r_opt2))\n",
    "plt.colorbar()"
   ]
  },
  {
   "cell_type": "code",
   "execution_count": 193,
   "metadata": {},
   "outputs": [
    {
     "name": "stdout",
     "output_type": "stream",
     "text": [
      "    0.192    0.199    0.225    0.199     0.18    0.177    0.205    0.237    0.272    0.294\n",
      "    0.222     0.23    0.249    0.229    0.194    0.168    0.202    0.243    0.292    0.303\n",
      "    0.247    0.255     0.27    0.252    0.209    0.191    0.216    0.249    0.301    0.304\n",
      "    0.266    0.275    0.286    0.272    0.225    0.219    0.215    0.241    0.297    0.308\n",
      "    0.282    0.288    0.303    0.288    0.238    0.249    0.256     0.24    0.294    0.303\n",
      "    0.293    0.306    0.296    0.305    0.255    0.295    0.273    0.259    0.292      0.3\n",
      "    0.307    0.312    0.325    0.305    0.296    0.312    0.298    0.275     0.29    0.297\n",
      "    0.313    0.348     0.36    0.356    0.332    0.325    0.316    0.294    0.289    0.297\n",
      "    0.346    0.361     0.36    0.374    0.365    0.367    0.349    0.348    0.325    0.332\n",
      "    0.323    0.354    0.375    0.376     0.38     0.37    0.371    0.353    0.353    0.334\n"
     ]
    },
    {
     "data": {
      "text/plain": [
       "<matplotlib.colorbar.Colorbar at 0x1fa9beb1eb8>"
      ]
     },
     "execution_count": 193,
     "metadata": {},
     "output_type": "execute_result"
    },
    {
     "data": {
      "image/png": "[encoded data removed]",
      "text/plain": [
       "<Figure size 432x288 with 2 Axes>"
      ]
     },
     "metadata": {
      "needs_background": "light"
     },
     "output_type": "display_data"
    }
   ],
   "source": [
    "lamb_extracted2=0.01*3\n",
    "# form c\n",
    "c2 = np.concatenate((np.ones((100,)), -lamb_extracted2*np.ones((100,)), np.zeros((100,))))\n",
    "# solve\n",
    "#ct=np.transpose(c)\n",
    "res2 = linprog(c2,A_ub=D2,b_ub=b2, A_eq=None, b_eq=None, bounds=None)\n",
    "opt_x2=np.array(res2['x'])\n",
    "R2=np.reshape(opt_x2[200:], (10,10)).T\n",
    "# revised\n",
    "opt2_extracted = opt_val(w, R2, states, gamma, nr)\n",
    "r_opt2_extracted = np.round(opt2_extracted, decimals =3)\n",
    "print('\\n'.join([''.join(['{:9}'.format(item) for item in row]) \n",
    "      for row in r_opt2_extracted]))\n",
    "# genetate heat map for previous part\n",
    "plt.pcolor(r_opt2_extracted, vmin=np.min(r_opt2_extracted), vmax=np.max(r_opt2_extracted))\n",
    "plt.colorbar()"
   ]
  },
  {
   "cell_type": "markdown",
   "metadata": {},
   "source": [
    "### Problem 21:"
   ]
  },
  {
   "cell_type": "code",
   "execution_count": 194,
   "metadata": {},
   "outputs": [
    {
     "name": "stdout",
     "output_type": "stream",
     "text": [
      "    0.192    0.199    0.225    0.199     0.18    0.177    0.205    0.237    0.272    0.294\n",
      "    0.222     0.23    0.249    0.229    0.194    0.168    0.202    0.243    0.292    0.303\n",
      "    0.247    0.255     0.27    0.252    0.209    0.191    0.216    0.249    0.301    0.304\n",
      "    0.266    0.275    0.286    0.272    0.225    0.219    0.215    0.241    0.297    0.308\n",
      "    0.282    0.288    0.303    0.288    0.238    0.249    0.256     0.24    0.294    0.303\n",
      "    0.293    0.306    0.296    0.305    0.255    0.295    0.273    0.259    0.292      0.3\n",
      "    0.307    0.312    0.325    0.305    0.296    0.312    0.298    0.275     0.29    0.297\n",
      "    0.313    0.348     0.36    0.356    0.332    0.325    0.316    0.294    0.289    0.297\n",
      "    0.346    0.361     0.36    0.374    0.365    0.367    0.349    0.348    0.325    0.332\n",
      "    0.323    0.354    0.375    0.376     0.38     0.37    0.371    0.353    0.353    0.334\n"
     ]
    }
   ],
   "source": [
    "print('\\n'.join([''.join(['{:9}'.format(item) for item in row]) \n",
    "      for row in r_opt2_extracted]))"
   ]
  },
  {
   "cell_type": "markdown",
   "metadata": {},
   "source": [
    "### Problem 23:"
   ]
  },
  {
   "cell_type": "code",
   "execution_count": 205,
   "metadata": {},
   "outputs": [
    {
     "name": "stdout",
     "output_type": "stream",
     "text": [
      "[['↓' '↓' '↓' '←' '←' '→' '→' '→' '→' '↓']\n",
      " ['↓' '↓' '↓' '←' '←' '→' '→' '→' '→' '↓']\n",
      " ['↓' '↓' '↓' '←' '←' '↓' '→' '→' '→' '→']\n",
      " ['↓' '↓' '↓' '←' '←' '↓' '↓' '→' '→' '↑']\n",
      " ['↓' '→' '↓' '←' '←' '↓' '↓' '→' '→' '↑']\n",
      " ['↓' '↓' '↓' '←' '←' '↓' '↓' '←' '→' '↑']\n",
      " ['↓' '↓' '↓' '↓' '→' '↓' '←' '←' '→' '↑']\n",
      " ['→' '↓' '↓' '↓' '↓' '↓' '←' '↓' '↓' '↓']\n",
      " ['→' '→' '→' '↓' '↓' '↓' '↓' '↓' '↓' '↓']\n",
      " ['→' '→' '→' '↓' '←' '←' '←' '←' '←' '→']]\n"
     ]
    }
   ],
   "source": [
    "lamb_extracted2=0.01*3\n",
    "# form c\n",
    "c2 = np.concatenate((np.ones((100,)), -lamb_extracted2*np.ones((100,)), np.zeros((100,))))\n",
    "# solve\n",
    "#ct=np.transpose(c)\n",
    "res2 = linprog(c2,A_ub=D2,b_ub=b2, A_eq=None, b_eq=None, bounds=None)\n",
    "opt_x2=np.array(res2['x'])\n",
    "R2=np.reshape(opt_x2[200:], (10,10)).T\n",
    "s7, d7= value_iteration_arrow(nnw, R2, nstates6, gamma, nr)\n",
    "print(d7)"
   ]
  },
  {
   "cell_type": "code",
   "execution_count": null,
   "metadata": {},
   "outputs": [],
   "source": []
  }
 ],
 "metadata": {
  "kernelspec": {
   "display_name": "Python 3",
   "language": "python",
   "name": "python3"
  },
  "language_info": {
   "codemirror_mode": {
    "name": "ipython",
    "version": 3
   },
   "file_extension": ".py",
   "mimetype": "text/x-python",
   "name": "python",
   "nbconvert_exporter": "python",
   "pygments_lexer": "ipython3",
   "version": "3.7.3"
  }
 },
 "nbformat": 4,
 "nbformat_minor": 4
}
