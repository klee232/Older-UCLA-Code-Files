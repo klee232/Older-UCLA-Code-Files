{
 "cells": [
  {
   "cell_type": "code",
   "execution_count": 11,
   "metadata": {},
   "outputs": [],
   "source": [
    "import numpy as np\n",
    "import scipy\n",
    "import matplotlib.pyplot as plt\n",
    "from scipy.optimize import linprog\n",
    "from matplotlib.colors import ListedColormap\n"
   ]
  },
  {
   "cell_type": "code",
   "execution_count": 2,
   "metadata": {},
   "outputs": [
    {
     "data": {
      "text/plain": [
       "<matplotlib.colorbar.Colorbar at 0x191f2ae2cf8>"
      ]
     },
     "execution_count": 2,
     "metadata": {},
     "output_type": "execute_result"
    },
    {
     "data": {
      "image/png": "[encoded data removed]",
      "text/plain": [
       "<Figure size 432x288 with 2 Axes>"
      ]
     },
     "metadata": {
      "needs_background": "light"
     },
     "output_type": "display_data"
    }
   ],
   "source": [
    "# reward function 1\n",
    "matrix = np.zeros((10,10))\n",
    "matrix[2][5] = -1.0\n",
    "matrix[2][6] = -1.0\n",
    "matrix[3][5] = -1.0\n",
    "matrix[3][6] = -1.0\n",
    "matrix[4][1] = -1.0\n",
    "matrix[4][2] = -1.0\n",
    "matrix[5][1] = -1.0\n",
    "matrix[5][2] = -1.0\n",
    "matrix[8][2] = -1.0\n",
    "matrix[8][3] = -1.0\n",
    "matrix[9][2] = -1.0\n",
    "matrix[9][3] = -1.0\n",
    "matrix[9][9] = 1.0\n",
    "# plot the heat map\n",
    "plt.pcolor(matrix, vmin=np.min(matrix), vmax=np.max(matrix))\n",
    "plt.ylim(top=0, bottom=10)\n",
    "plt.xlim(left=0, right=10)\n",
    "plt.colorbar()"
   ]
  },
  {
   "cell_type": "code",
   "execution_count": 3,
   "metadata": {},
   "outputs": [
    {
     "data": {
      "text/plain": [
       "<matplotlib.colorbar.Colorbar at 0x191f2bf4198>"
      ]
     },
     "execution_count": 3,
     "metadata": {},
     "output_type": "execute_result"
    },
    {
     "data": {
      "image/png": "[encoded data removed]",
      "text/plain": [
       "<Figure size 432x288 with 2 Axes>"
      ]
     },
     "metadata": {
      "needs_background": "light"
     },
     "output_type": "display_data"
    }
   ],
   "source": [
    "# reward function 2\n",
    "matrix2 = np.zeros((10,10))\n",
    "matrix2[1][4] = -100.0\n",
    "matrix2[1][5] = -100.0\n",
    "matrix2[1][6] = -100.0\n",
    "matrix2[2][4] = -100.0\n",
    "matrix2[2][6] = -100.0\n",
    "matrix2[3][4] = -100.0\n",
    "matrix2[3][6] = -100.0\n",
    "matrix2[3][7] = -100.0\n",
    "matrix2[3][8] = -100.0\n",
    "matrix2[4][4] = -100.0\n",
    "matrix2[4][8] = -100.0\n",
    "matrix2[5][4] = -100.0\n",
    "matrix2[5][8] = -100.0\n",
    "matrix2[6][4] = -100.0\n",
    "matrix2[6][8] = -100.0\n",
    "matrix2[7][6] = -100.0\n",
    "matrix2[7][7] = -100.0\n",
    "matrix2[7][8] = -100.0\n",
    "matrix2[8][6] = -100.0\n",
    "matrix2[9][9] = 10.0\n",
    "# plot the heat map\n",
    "plt.pcolor(matrix2, vmin=np.min(matrix2), vmax=np.max(matrix2))\n",
    "plt.ylim(top=0, bottom=10)\n",
    "plt.xlim(left=0, right=10)\n",
    "plt.colorbar()"
   ]
  },
  {
   "cell_type": "code",
   "execution_count": 4,
   "metadata": {},
   "outputs": [],
   "source": [
    "# set up functions\n",
    "# probability function\n",
    "def prob(curr_state, next_state, move, proba):\n",
    "    #check if it's a neighbor\n",
    "    left = curr_state -10\n",
    "    up = curr_state-1\n",
    "    right = curr_state+10\n",
    "    down = curr_state+1\n",
    "    # not a neighbor\n",
    "    if(next_state==left):\n",
    "        if(move == -10):\n",
    "            return (1-proba+proba/4)\n",
    "        else:\n",
    "            return(proba/4)\n",
    "    elif(next_state==up):\n",
    "        if(move == -1):\n",
    "            return (1-proba+proba/4)\n",
    "        else:\n",
    "            return(proba/4)\n",
    "    elif(next_state==right):\n",
    "        if(move == 10):\n",
    "            return (1-proba+proba/4)\n",
    "        else:\n",
    "            return(proba/4)\n",
    "    elif(next_state==down):\n",
    "        if(move == 1):\n",
    "            return (1-proba+proba/4)\n",
    "        else:\n",
    "            return(proba/4)\n",
    "    elif(next_state==curr_state):\n",
    "        record = 0\n",
    "        if left < 0:\n",
    "            if move == -10:\n",
    "                record += (1-proba+proba/4)\n",
    "            else:\n",
    "                record = proba/4\n",
    "        if right > 99:\n",
    "            if move == 10:\n",
    "                record += (1-proba+proba/4)\n",
    "            else:\n",
    "                record = proba/4\n",
    "        if up % 10 == 9:\n",
    "            if move == -1:\n",
    "                record += (1-proba+proba/4)\n",
    "            else:\n",
    "                record += proba/4\n",
    "        if down % 10 == 0:\n",
    "            if move == 1:\n",
    "                record += (1-proba+proba/4)\n",
    "            else:\n",
    "                record += proba/4\n",
    "        return record\n",
    "    else:\n",
    "        return 0            \n",
    "###################################################################\n",
    "# optimal value function \n",
    "def opt_val(probabililty, reward, states, gamma, r):\n",
    "    # initialization\n",
    "    for sx in range(10):\n",
    "        for sy in range(10):\n",
    "            states[sx, sy]=0\n",
    "    # extimation\n",
    "    delta = float('inf')\n",
    "    while(delta > gamma):\n",
    "        delta = 0\n",
    "        store = states[:,:]\n",
    "        for si in range(100):\n",
    "            si_ten, si_dig=divmod(si, 10)\n",
    "            v = states[si_dig, si_ten];\n",
    "            temp=np.zeros(4);\n",
    "            actions = [-10, -1, 10, 1]\n",
    "            for ai in range(4):\n",
    "                sum = 0;\n",
    "                near = [si-10, si-1, si+10, si+1, si]\n",
    "                for sn in near:\n",
    "                    if(sn<0 or sn>=100 or (si%10==9 and sn%10==0) or (si%10==0 and sn%10==9)):\n",
    "                        sum=sum\n",
    "                    else:\n",
    "                        i_ten, i_dig = divmod(sn, 10)\n",
    "                        sum +=prob(si, sn, actions[ai], w)*(reward[i_dig, i_ten] + r * store[i_dig, i_ten])\n",
    "                temp[ai] += sum\n",
    "            states[si_dig, si_ten]=np.max(temp)\n",
    "            delta = max(delta, abs(v-states[si_dig, si_ten]))\n",
    "    return states\n",
    "\n",
    "#####################################################################\n",
    "# optimal direction function \n",
    "def value_iteration(w, reward, states, gamma, r):\n",
    "    # initialization\n",
    "    for sx in range(10):\n",
    "        for sy in range(10):\n",
    "            states[sx, sy]=0\n",
    "    # extimation\n",
    "    delta = float('inf')\n",
    "    while(delta > gamma):\n",
    "        delta = 0\n",
    "        store = states[:,:]\n",
    "        direction = np.zeros((10,10))\n",
    "        act = [0, 1, 2, 3]\n",
    "        for si in range(100):\n",
    "            si_ten, si_dig=divmod(si, 10)\n",
    "            v = states[si_dig, si_ten];\n",
    "            temp=np.zeros(4);\n",
    "            actions = [-10, -1, 10, 1]\n",
    "            for ai in range(4):\n",
    "                sum = 0;\n",
    "                near = [si-10, si-1, si+10, si+1, si]\n",
    "                for sn in near:\n",
    "                    if(sn<0 or sn>=100 or (si%10==9 and sn%10==0) or (si%10==0 and sn%10==9)):\n",
    "                        sum=sum\n",
    "                    else:\n",
    "                        i_ten, i_dig = divmod(sn, 10)\n",
    "                        sum +=prob(si, sn, actions[ai], w)*(reward[i_dig, i_ten] + r * store[i_dig, i_ten])\n",
    "                temp[ai] += sum\n",
    "            states[si_dig, si_ten]=np.max(temp)\n",
    "            delta = max(delta, abs(v-states[si_dig, si_ten]))\n",
    "            # actions\n",
    "            direction[si_dig, si_ten]=act[np.argmax(temp)]\n",
    "    return states,direction\n",
    "###########################################################################\n",
    "def next_state(curr_dig, curr_ten, a):\n",
    "    if(a==0):\n",
    "        next_ten=max(curr_ten-1, 0)\n",
    "        next_dig=curr_dig\n",
    "    elif(a==1):\n",
    "        next_ten=curr_ten\n",
    "        next_dig=max(curr_dig-1,0)\n",
    "    elif(a==2):\n",
    "        next_ten=min(curr_ten+1, 9)\n",
    "        next_dig=curr_dig\n",
    "    elif(a==3):\n",
    "        next_ten=curr_ten\n",
    "        next_dig=min(curr_dig+1,9)\n",
    "    next = next_ten*10 + next_dig                \n",
    "    return next\n",
    "        \n",
    "def trans(optt, p):\n",
    "    pa=np.zeros((100,100))\n",
    "    for curr in range(100):\n",
    "        curr_ten, curr_dig=divmod(curr, 10)\n",
    "        opt_dir = optt[curr_dig, curr_ten]\n",
    "        for ai in range(4):\n",
    "                next = next_state(curr_dig, curr_ten, ai)\n",
    "                prob=p/4\n",
    "                if(ai==opt_dir):\n",
    "                    prob+=1-p\n",
    "                pa[curr][next]=prob\n",
    "    return pa\n",
    "    \n",
    "def D_b(dd1, nr, w):\n",
    "    # d\n",
    "    I=np.identity(100)\n",
    "    # generate transition matrix\n",
    "    pa1=trans(dd1, w)\n",
    "    pa2=trans(np.mod(dd1+1,4), w)\n",
    "    pa3=trans(np.mod(dd1+2,4), w)\n",
    "    pa4=trans(np.mod(dd1+3,4), w)\n",
    "    # generate D\n",
    "    zeroN=np.zeros((100,100))\n",
    "    row1 = np.concatenate((I, zeroN, np.dot((pa2-pa1), np.linalg.inv(I-nr*pa1))), axis=1)\n",
    "    row2 = np.concatenate((I, zeroN, np.dot((pa3-pa1), np.linalg.inv(I-nr*pa1))), axis=1)\n",
    "    row3 = np.concatenate((I, zeroN, np.dot((pa4-pa1), np.linalg.inv(I-nr*pa1))), axis=1)\n",
    "    row4 = np.concatenate((zeroN, zeroN, np.dot((pa2-pa1), np.linalg.inv(I-nr*pa1))), axis=1)\n",
    "    row5 = np.concatenate((zeroN, zeroN, np.dot((pa3-pa1), np.linalg.inv(I-nr*pa1))), axis=1)\n",
    "    row6 = np.concatenate((zeroN, zeroN, np.dot((pa4-pa1), np.linalg.inv(I-nr*pa1))), axis=1)\n",
    "    row7 = np.concatenate((zeroN, -I, I), axis=1)\n",
    "    row8 = np.concatenate((zeroN, -I, -I), axis=1)\n",
    "    row9 = np.concatenate((zeroN, zeroN, I), axis=1)\n",
    "    row10 = np.concatenate((zeroN, zeroN, -I), axis=1)\n",
    "    D=np.concatenate((row1, row2, row3, row4, row5, row6, row7, row8, row9, row10), axis=0)\n",
    "    #G= matrix(D)\n",
    "    # generate b\n",
    "    zero1=np.zeros((2*100,1))\n",
    "    r_max = np.ones((100,1))\n",
    "    b = np.concatenate((zero1, zero1, zero1, zero1, r_max, r_max),axis=0)\n",
    "    return D,b\n",
    "############################################################################\n",
    "# optimal direction function \n",
    "def value_iteration_arrow(w, reward, states, gamma, r):\n",
    "    # initialization\n",
    "    for sx in range(10):\n",
    "        for sy in range(10):\n",
    "            states[sx, sy]=0\n",
    "    # extimation\n",
    "    delta = float('inf')\n",
    "    while(delta > gamma):\n",
    "        delta = 0\n",
    "        store = states[:,:]\n",
    "        direction = np.chararray((10,10),unicode=True)\n",
    "        act = ['\\u2190', '\\u2191', '\\u2192', '\\u2193']\n",
    "        for si in range(100):\n",
    "            si_ten, si_dig=divmod(si, 10)\n",
    "            v = states[si_dig, si_ten];\n",
    "            temp=np.zeros(4);\n",
    "            actions = [-10, -1, 10, 1]\n",
    "            for ai in range(4):\n",
    "                sum = 0;\n",
    "                near = [si-10, si-1, si+10, si+1, si]\n",
    "                for sn in near:\n",
    "                    if(sn<0 or sn>=100 or (si%10==9 and sn%10==0) or (si%10==0 and sn%10==9)):\n",
    "                        sum=sum\n",
    "                    else:\n",
    "                        i_ten, i_dig = divmod(sn, 10)\n",
    "                        sum +=prob(si, sn, actions[ai], w)*(reward[i_dig, i_ten] + r * store[i_dig, i_ten])\n",
    "                temp[ai] += sum\n",
    "            states[si_dig, si_ten]=np.max(temp)\n",
    "            delta = max(delta, abs(v-states[si_dig, si_ten]))\n",
    "            # actions\n",
    "            direction[si_dig, si_ten]=act[np.argmax(temp)]\n",
    "    return states,direction"
   ]
  },
  {
   "cell_type": "code",
   "execution_count": 8,
   "metadata": {},
   "outputs": [
    {
     "name": "stdout",
     "output_type": "stream",
     "text": [
      "[['↓' '↓' '↓' '←' '←' '→' '→' '→' '→' '↓']\n",
      " ['↓' '↓' '↓' '←' '←' '↑' '→' '→' '→' '↓']\n",
      " ['↓' '↓' '↓' '←' '←' '↓' '→' '→' '→' '↓']\n",
      " ['↓' '↓' '↓' '←' '←' '↓' '↓' '↑' '→' '↓']\n",
      " ['↓' '↓' '↓' '←' '←' '↓' '↓' '↓' '→' '↓']\n",
      " ['↓' '↓' '↓' '←' '←' '↓' '↓' '←' '→' '↓']\n",
      " ['↓' '↓' '↓' '↓' '↓' '↓' '←' '←' '→' '↓']\n",
      " ['↓' '↓' '↓' '↓' '↓' '↓' '←' '↓' '↓' '↓']\n",
      " ['→' '→' '→' '↓' '↓' '↓' '↓' '↓' '↓' '↓']\n",
      " ['→' '→' '→' '→' '→' '→' '→' '→' '→' '→']]\n"
     ]
    }
   ],
   "source": [
    "# creating the environment\n",
    "states = np.zeros((10,10))\n",
    "for i in range(10):\n",
    "    for j in range(10):\n",
    "        states[i][j] += 10*j + i\n",
    "        \n",
    "gamma = 0.01\n",
    "w = 0.1\n",
    "nr = 0.8\n",
    "\n",
    "direction2 = np.chararray((10,10), unicode=True)\n",
    "r = 0.8\n",
    "w = 0.1\n",
    "\n",
    "s2, direction2=value_iteration_arrow(w, matrix2, states,gamma, r)\n",
    "    \n",
    "print(direction2)"
   ]
  },
  {
   "cell_type": "code",
   "execution_count": 12,
   "metadata": {},
   "outputs": [],
   "source": [
    "nr=0.8\n",
    "nnw=0.1\n",
    "\n",
    "nstates6 = np.zeros((10,10))\n",
    "for i in range(10):\n",
    "    for j in range(10):\n",
    "        nstates6[i][j] += 10*j + i\n",
    "gamma = 0.0001\n",
    "nnw = 0.1\n",
    "s5, d5= value_iteration(nnw, matrix2, nstates6, gamma, nr)\n",
    "\n",
    "D2, b2 = D_b(d5,0.8, 0.1)\n",
    "lambs =np.linspace(0,5,500)\n",
    "acc2=np.zeros(500)\n",
    "for i, lamb in enumerate(np.linspace(0,5,500)):\n",
    "    # form c\n",
    "    c2 = np.concatenate((np.ones((100,)), -lamb*np.ones((100,)), np.zeros((100,))))\n",
    "    # solve\n",
    "    #ct=np.transpose(c)\n",
    "    res2 = linprog(c2,A_ub=D2,b_ub=b2, A_eq=None, b_eq=None, bounds=None)\n",
    "    opt_x2=np.array(res2['x'])\n",
    "    R2=np.reshape(opt_x2[200:], (10,10)).T\n",
    "    s7, d7= value_iteration_arrow(nnw, R2, nstates6, gamma, 0.8)\n",
    "    accuracy2=np.sum(d7==direction2)/100\n",
    "    acc2[i]=accuracy2\n"
   ]
  },
  {
   "cell_type": "code",
   "execution_count": 13,
   "metadata": {},
   "outputs": [
    {
     "data": {
      "text/plain": [
       "[<matplotlib.lines.Line2D at 0x191f2f38908>]"
      ]
     },
     "execution_count": 13,
     "metadata": {},
     "output_type": "execute_result"
    },
    {
     "data": {
      "image/png": "[encoded data removed]",
      "text/plain": [
       "<Figure size 432x288 with 1 Axes>"
      ]
     },
     "metadata": {
      "needs_background": "light"
     },
     "output_type": "display_data"
    }
   ],
   "source": [
    "plt.plot(acc2)"
   ]
  },
  {
   "cell_type": "code",
   "execution_count": 14,
   "metadata": {},
   "outputs": [
    {
     "name": "stdout",
     "output_type": "stream",
     "text": [
      "(array([4], dtype=int64),)\n"
     ]
    }
   ],
   "source": [
    "lamb_maxindex2=np.where(acc2==np.amax(acc2))\n",
    "print(lamb_maxindex2)"
   ]
  },
  {
   "cell_type": "code",
   "execution_count": 15,
   "metadata": {},
   "outputs": [
    {
     "name": "stdout",
     "output_type": "stream",
     "text": [
      "[['↓' '↓' '↓' '←' '←' '→' '→' '→' '→' '↓']\n",
      " ['↓' '↓' '↓' '←' '←' '→' '→' '→' '→' '↓']\n",
      " ['↓' '↓' '↓' '←' '←' '↓' '→' '→' '→' '→']\n",
      " ['↓' '↓' '↓' '←' '←' '↓' '↓' '→' '→' '↑']\n",
      " ['↓' '↓' '↓' '←' '←' '↓' '↓' '→' '→' '↑']\n",
      " ['↓' '↓' '↓' '←' '←' '↓' '↓' '←' '→' '↑']\n",
      " ['↓' '↓' '↓' '↓' '→' '↓' '←' '←' '→' '↑']\n",
      " ['→' '↓' '↓' '↓' '↓' '↓' '←' '↓' '→' '↓']\n",
      " ['→' '→' '→' '↓' '↓' '↓' '↓' '↓' '↓' '↓']\n",
      " ['→' '→' '→' '↓' '←' '←' '←' '←' '←' '→']]\n"
     ]
    }
   ],
   "source": [
    "lamb_extracted2=0.01*4\n",
    "# form c\n",
    "c2 = np.concatenate((np.ones((100,)), -lamb_extracted2*np.ones((100,)), np.zeros((100,))))\n",
    "# solve\n",
    "#ct=np.transpose(c)\n",
    "res2 = linprog(c2,A_ub=D2,b_ub=b2, A_eq=None, b_eq=None, bounds=None)\n",
    "opt_x2=np.array(res2['x'])\n",
    "R2=np.reshape(opt_x2[200:], (10,10)).T\n",
    "s7, d7= value_iteration_arrow(nnw, R2, nstates6, gamma, nr)\n",
    "print(d7)"
   ]
  },
  {
   "cell_type": "code",
   "execution_count": null,
   "metadata": {},
   "outputs": [],
   "source": []
  }
 ],
 "metadata": {
  "kernelspec": {
   "display_name": "Python 3",
   "language": "python",
   "name": "python3"
  },
  "language_info": {
   "codemirror_mode": {
    "name": "ipython",
    "version": 3
   },
   "file_extension": ".py",
   "mimetype": "text/x-python",
   "name": "python",
   "nbconvert_exporter": "python",
   "pygments_lexer": "ipython3",
   "version": "3.7.3"
  }
 },
 "nbformat": 4,
 "nbformat_minor": 4
}
